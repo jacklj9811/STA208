{
 "cells": [
  {
   "cell_type": "markdown",
   "id": "7acf336d",
   "metadata": {},
   "source": [
    "### 1.Basic exercises using numpy: \n",
    "\n",
    "let u = (1, 2, 3, 3, 2, 1)'"
   ]
  },
  {
   "cell_type": "code",
   "execution_count": 1,
   "id": "e4e19899",
   "metadata": {},
   "outputs": [],
   "source": [
    "import numpy as np"
   ]
  },
  {
   "cell_type": "code",
   "execution_count": 2,
   "id": "e7e41146",
   "metadata": {},
   "outputs": [
    {
     "data": {
      "text/plain": [
       "array([[1],\n",
       "       [2],\n",
       "       [3],\n",
       "       [3],\n",
       "       [2],\n",
       "       [1]])"
      ]
     },
     "execution_count": 2,
     "metadata": {},
     "output_type": "execute_result"
    }
   ],
   "source": [
    "u = np.array([1,2,3,3,2,1]).reshape(-1,1)\n",
    "u"
   ]
  },
  {
   "cell_type": "markdown",
   "id": "95f9a8c5",
   "metadata": {},
   "source": [
    "(a) Compute $U = I − \\frac{2}{u'u}\\times uu'$ (This type of matrix is known as an ‘elementary reflector’ or a ‘Householder transformation.’)"
   ]
  },
  {
   "cell_type": "code",
   "execution_count": 3,
   "id": "dcc4ce87",
   "metadata": {},
   "outputs": [
    {
     "data": {
      "text/plain": [
       "(6, 1)"
      ]
     },
     "execution_count": 3,
     "metadata": {},
     "output_type": "execute_result"
    }
   ],
   "source": [
    "u.shape"
   ]
  },
  {
   "cell_type": "code",
   "execution_count": 4,
   "id": "bbb695ce",
   "metadata": {},
   "outputs": [
    {
     "data": {
      "text/plain": [
       "array([[ 0.92857143, -0.14285714, -0.21428571, -0.21428571, -0.14285714,\n",
       "        -0.07142857],\n",
       "       [-0.14285714,  0.71428571, -0.42857143, -0.42857143, -0.28571429,\n",
       "        -0.14285714],\n",
       "       [-0.21428571, -0.42857143,  0.35714286, -0.64285714, -0.42857143,\n",
       "        -0.21428571],\n",
       "       [-0.21428571, -0.42857143, -0.64285714,  0.35714286, -0.42857143,\n",
       "        -0.21428571],\n",
       "       [-0.14285714, -0.28571429, -0.42857143, -0.42857143,  0.71428571,\n",
       "        -0.14285714],\n",
       "       [-0.07142857, -0.14285714, -0.21428571, -0.21428571, -0.14285714,\n",
       "         0.92857143]])"
      ]
     },
     "execution_count": 4,
     "metadata": {},
     "output_type": "execute_result"
    }
   ],
   "source": [
    "U = np.eye(u.shape[0]) - 2/(u.T @ u) * u @ u.T\n",
    "U"
   ]
  },
  {
   "cell_type": "markdown",
   "id": "8edf5ced",
   "metadata": {},
   "source": [
    "(b) Let C = UU (matrix-matrix multiplication), the matrix product of U and itself. Find the largest and smallest off-diagonal elements of C.\n"
   ]
  },
  {
   "cell_type": "markdown",
   "id": "794591c1",
   "metadata": {},
   "source": [
    "$C$ should be an identity matrix! Proof: $C=U^2=I+\\frac{4}{u'uu'u}u(u'u)u'-\\frac{2\\times2}{u'u}uu'=I$. QED."
   ]
  },
  {
   "cell_type": "code",
   "execution_count": 5,
   "id": "3fade587",
   "metadata": {},
   "outputs": [
    {
     "data": {
      "text/plain": [
       "array([[ 1.00000000e+00, -2.46401539e-17, -5.55111512e-17,\n",
       "        -4.38991247e-17, -2.77555756e-17, -1.92589708e-17],\n",
       "       [-2.46401539e-17,  1.00000000e+00, -7.59030027e-17,\n",
       "        -1.11022302e-16, -4.48195902e-17, -2.77555756e-17],\n",
       "       [-5.55111512e-17, -7.59030027e-17,  1.00000000e+00,\n",
       "        -7.22211406e-17, -1.11022302e-16, -4.48903953e-17],\n",
       "       [-4.38991247e-17, -1.11022302e-16, -7.22211406e-17,\n",
       "         1.00000000e+00, -8.97807905e-17, -8.32667268e-17],\n",
       "       [-2.08166817e-17, -5.55111512e-17, -9.71445147e-17,\n",
       "        -5.55111512e-17,  1.00000000e+00, -4.16333634e-17],\n",
       "       [-1.38777878e-17, -2.77555756e-17, -5.55111512e-17,\n",
       "        -8.32667268e-17, -4.16333634e-17,  1.00000000e+00]])"
      ]
     },
     "execution_count": 5,
     "metadata": {},
     "output_type": "execute_result"
    }
   ],
   "source": [
    "C = U @ U\n",
    "C # This C matrix should be an identity matrix. All weird elements here appear because of round-off errors!"
   ]
  },
  {
   "cell_type": "code",
   "execution_count": 6,
   "id": "05d76b81",
   "metadata": {},
   "outputs": [
    {
     "data": {
      "text/plain": [
       "-1.3877787807814457e-17"
      ]
     },
     "execution_count": 6,
     "metadata": {},
     "output_type": "execute_result"
    }
   ],
   "source": [
    "# largest off- diagonal elements of C\n",
    "from copy import deepcopy\n",
    "C_tmp = deepcopy(C)\n",
    "np.fill_diagonal(C_tmp,float('-inf'))\n",
    "np.max(C_tmp) # should be zero actually! It is non-zero here because of round-off errors!"
   ]
  },
  {
   "cell_type": "code",
   "execution_count": 7,
   "id": "c773fe02",
   "metadata": {},
   "outputs": [
    {
     "data": {
      "text/plain": [
       "-1.1102230246251565e-16"
      ]
     },
     "execution_count": 7,
     "metadata": {},
     "output_type": "execute_result"
    }
   ],
   "source": [
    "# smallest off- diagonal elements of C\n",
    "from copy import deepcopy\n",
    "C_tmp = deepcopy(C)\n",
    "np.fill_diagonal(C_tmp,float('inf'))\n",
    "np.min(C_tmp)# should be zero actually! It is non-zero here because of round-off errors!"
   ]
  },
  {
   "cell_type": "markdown",
   "id": "7aabacda",
   "metadata": {},
   "source": [
    "(c) Find the largest and smallest diagonal elements of C."
   ]
  },
  {
   "cell_type": "code",
   "execution_count": 8,
   "id": "5633cb7e",
   "metadata": {},
   "outputs": [
    {
     "data": {
      "text/plain": [
       "1.0"
      ]
     },
     "execution_count": 8,
     "metadata": {},
     "output_type": "execute_result"
    }
   ],
   "source": [
    "# largest diagonal element of C\n",
    "np.max(np.diag(C))"
   ]
  },
  {
   "cell_type": "code",
   "execution_count": 9,
   "id": "5df42d82",
   "metadata": {},
   "outputs": [
    {
     "data": {
      "text/plain": [
       "0.9999999999999998"
      ]
     },
     "execution_count": 9,
     "metadata": {},
     "output_type": "execute_result"
    }
   ],
   "source": [
    "# smallest diagonal element of C\n",
    "np.min(np.diag(C)) # It is actually 1. this phenomenon happens because of round-off errors."
   ]
  },
  {
   "cell_type": "markdown",
   "id": "6f0dbe2f",
   "metadata": {},
   "source": [
    "(d) Compute Uu. (matrix-vector multiplication)"
   ]
  },
  {
   "cell_type": "code",
   "execution_count": 10,
   "id": "aaa6324a",
   "metadata": {},
   "outputs": [
    {
     "data": {
      "text/plain": [
       "array([[-1.],\n",
       "       [-2.],\n",
       "       [-3.],\n",
       "       [-3.],\n",
       "       [-2.],\n",
       "       [-1.]])"
      ]
     },
     "execution_count": 10,
     "metadata": {},
     "output_type": "execute_result"
    }
   ],
   "source": [
    "Uu = U @ u\n",
    "Uu"
   ]
  },
  {
   "cell_type": "markdown",
   "id": "d3653fab",
   "metadata": {},
   "source": [
    "(e) Compute the scalar $\\max_i \\sum_j|U_{ij} |$"
   ]
  },
  {
   "cell_type": "code",
   "execution_count": 34,
   "id": "9b34f1c3",
   "metadata": {},
   "outputs": [
    {
     "data": {
      "text/plain": [
       "2.2857142857142856"
      ]
     },
     "execution_count": 34,
     "metadata": {},
     "output_type": "execute_result"
    }
   ],
   "source": [
    "max(np.sum(abs(U),axis=1))"
   ]
  },
  {
   "cell_type": "markdown",
   "id": "af3f628c",
   "metadata": {},
   "source": [
    "(f) Print the third row of $U$."
   ]
  },
  {
   "cell_type": "code",
   "execution_count": 36,
   "id": "63d839b5",
   "metadata": {},
   "outputs": [
    {
     "name": "stdout",
     "output_type": "stream",
     "text": [
      "[-0.21428571 -0.42857143  0.35714286 -0.64285714 -0.42857143 -0.21428571]\n"
     ]
    }
   ],
   "source": [
    "print(U[2])"
   ]
  },
  {
   "cell_type": "markdown",
   "id": "98462f72",
   "metadata": {},
   "source": [
    "(g) Print the elements of the second column below the diagonal."
   ]
  },
  {
   "cell_type": "code",
   "execution_count": 37,
   "id": "78574263",
   "metadata": {
    "scrolled": true
   },
   "outputs": [
    {
     "name": "stdout",
     "output_type": "stream",
     "text": [
      "[-0.42857143 -0.42857143 -0.28571429 -0.14285714]\n"
     ]
    }
   ],
   "source": [
    "print(U[2:,1])"
   ]
  },
  {
   "cell_type": "markdown",
   "id": "c92bbde9",
   "metadata": {},
   "source": [
    "(h) Let $A$ be the first three columns of $U$. Compute $P = AA'$ ."
   ]
  },
  {
   "cell_type": "code",
   "execution_count": 41,
   "id": "0e2f028e",
   "metadata": {},
   "outputs": [
    {
     "data": {
      "text/plain": [
       "array([[ 9.28571429e-01, -1.42857143e-01, -2.14285714e-01,\n",
       "        -3.54025199e-17, -2.88884563e-17, -1.44442281e-17],\n",
       "       [-1.42857143e-01,  7.14285714e-01, -4.28571429e-01,\n",
       "        -1.52938886e-17, -2.26576127e-18, -1.13288064e-18],\n",
       "       [-2.14285714e-01, -4.28571429e-01,  3.57142857e-01,\n",
       "        -4.07837029e-17, -4.30494642e-17, -2.15247321e-17],\n",
       "       [-3.54025199e-17, -1.52938886e-17, -4.07837029e-17,\n",
       "         6.42857143e-01,  4.28571429e-01,  2.14285714e-01],\n",
       "       [-2.88884563e-17, -2.26576127e-18, -4.30494642e-17,\n",
       "         4.28571429e-01,  2.85714286e-01,  1.42857143e-01],\n",
       "       [-1.44442281e-17, -1.13288064e-18, -2.15247321e-17,\n",
       "         2.14285714e-01,  1.42857143e-01,  7.14285714e-02]])"
      ]
     },
     "execution_count": 41,
     "metadata": {},
     "output_type": "execute_result"
    }
   ],
   "source": [
    "A = U[:,0:3]\n",
    "P = A @ A.T\n",
    "P"
   ]
  },
  {
   "cell_type": "markdown",
   "id": "e6a8a009",
   "metadata": {},
   "source": [
    "(i) Show that $P$ is idempotent by recomputing (e) with $ P P − P$."
   ]
  },
  {
   "cell_type": "markdown",
   "id": "44f4d56b",
   "metadata": {},
   "source": [
    "Proof: $U=I$ actually. So $A'A=I_3$. $PP=AA'AA'=AI_3A'=AA'=P$.QED"
   ]
  },
  {
   "cell_type": "code",
   "execution_count": 43,
   "id": "1508c5a1",
   "metadata": {},
   "outputs": [
    {
     "data": {
      "text/plain": [
       "True"
      ]
     },
     "execution_count": 43,
     "metadata": {},
     "output_type": "execute_result"
    }
   ],
   "source": [
    "result = P@P-P\n",
    "np.allclose(result, np.zeros(result.shape))"
   ]
  },
  {
   "cell_type": "markdown",
   "id": "f8e07f7f",
   "metadata": {},
   "source": [
    "Your demand is confusing... OK. I will do as you command..."
   ]
  },
  {
   "cell_type": "code",
   "execution_count": 51,
   "id": "a12ae5ae",
   "metadata": {},
   "outputs": [
    {
     "data": {
      "text/plain": [
       "2.43852557194454e-16"
      ]
     },
     "execution_count": 51,
     "metadata": {},
     "output_type": "execute_result"
    }
   ],
   "source": [
    "max(np.sum(abs(P@P-P),axis=1))"
   ]
  },
  {
   "cell_type": "markdown",
   "id": "85ec6b18",
   "metadata": {},
   "source": [
    "That means all elements are super close to zero, right? So that gets proved."
   ]
  },
  {
   "cell_type": "markdown",
   "id": "b7f03c24",
   "metadata": {},
   "source": [
    "(j) Let $B$ be the last three columns of $U$. Compute $Q = BB'$ ."
   ]
  },
  {
   "cell_type": "code",
   "execution_count": 46,
   "id": "b591087c",
   "metadata": {},
   "outputs": [
    {
     "data": {
      "text/plain": [
       "array([[ 7.14285714e-02,  1.42857143e-01,  2.14285714e-01,\n",
       "        -2.38967009e-17, -7.25751658e-18, -8.21338462e-18],\n",
       "       [ 1.42857143e-01,  2.85714286e-01,  4.28571429e-01,\n",
       "        -4.77934019e-17, -1.45150332e-17, -1.64267692e-17],\n",
       "       [ 2.14285714e-01,  4.28571429e-01,  6.42857143e-01,\n",
       "        -2.83220159e-17, -2.00378263e-17, -2.46401539e-17],\n",
       "       [-2.38967009e-17, -4.77934019e-17, -2.83220159e-17,\n",
       "         3.57142857e-01, -4.28571429e-01, -2.14285714e-01],\n",
       "       [-7.25751658e-18, -1.45150332e-17, -2.00378263e-17,\n",
       "        -4.28571429e-01,  7.14285714e-01, -1.42857143e-01],\n",
       "       [-8.21338462e-18, -1.64267692e-17, -2.46401539e-17,\n",
       "        -2.14285714e-01, -1.42857143e-01,  9.28571429e-01]])"
      ]
     },
     "execution_count": 46,
     "metadata": {},
     "output_type": "execute_result"
    }
   ],
   "source": [
    "B=U[:,-3:]\n",
    "Q=B@B.T\n",
    "Q"
   ]
  },
  {
   "cell_type": "markdown",
   "id": "158a03af",
   "metadata": {},
   "source": [
    "(k) Show that $Q$ is idempotent by recomputing (e) with $QQ − Q$."
   ]
  },
  {
   "cell_type": "markdown",
   "id": "c5949fe7",
   "metadata": {},
   "source": [
    "Proof: $U=I$ actually. So $B'B=I_3$. $QQ=BB'BB'=BI_3B'=BB'=Q$.QED"
   ]
  },
  {
   "cell_type": "code",
   "execution_count": 47,
   "id": "5e3b5034",
   "metadata": {},
   "outputs": [
    {
     "data": {
      "text/plain": [
       "True"
      ]
     },
     "execution_count": 47,
     "metadata": {},
     "output_type": "execute_result"
    }
   ],
   "source": [
    "result = Q@Q-Q\n",
    "np.allclose(result, np.zeros(result.shape))"
   ]
  },
  {
   "cell_type": "markdown",
   "id": "0e5449f5",
   "metadata": {},
   "source": [
    "Your demand is confusing... OK. I will do as you command..."
   ]
  },
  {
   "cell_type": "code",
   "execution_count": 48,
   "id": "5dcd2939",
   "metadata": {},
   "outputs": [
    {
     "data": {
      "text/plain": [
       "3.039660360150381e-16"
      ]
     },
     "execution_count": 48,
     "metadata": {},
     "output_type": "execute_result"
    }
   ],
   "source": [
    "max(np.sum(abs(Q@Q-Q),axis=1))"
   ]
  },
  {
   "cell_type": "code",
   "execution_count": null,
   "id": "1e5b833b",
   "metadata": {},
   "outputs": [],
   "source": [
    "(l) Compute P + Q"
   ]
  },
  {
   "cell_type": "markdown",
   "id": "f9b09ab4",
   "metadata": {},
   "source": [
    "That means all elements are super close to zero, right? So that gets proved."
   ]
  },
  {
   "cell_type": "markdown",
   "id": "480d1d29",
   "metadata": {},
   "source": [
    "(l) Compute P + Q"
   ]
  },
  {
   "cell_type": "code",
   "execution_count": 52,
   "id": "156147f8",
   "metadata": {},
   "outputs": [
    {
     "data": {
      "text/plain": [
       "array([[ 1.00000000e+00, -2.77555756e-17, -5.55111512e-17,\n",
       "        -5.92992209e-17, -3.61459728e-17, -2.26576127e-17],\n",
       "       [-2.77555756e-17,  1.00000000e+00, -5.55111512e-17,\n",
       "        -6.30872905e-17, -1.67807944e-17, -1.75596499e-17],\n",
       "       [-5.55111512e-17, -5.55111512e-17,  1.00000000e+00,\n",
       "        -6.91057189e-17, -6.30872905e-17, -4.61648860e-17],\n",
       "       [-5.92992209e-17, -6.30872905e-17, -6.91057189e-17,\n",
       "         1.00000000e+00, -1.11022302e-16, -5.55111512e-17],\n",
       "       [-3.61459728e-17, -1.67807944e-17, -6.30872905e-17,\n",
       "        -1.11022302e-16,  1.00000000e+00,  0.00000000e+00],\n",
       "       [-2.26576127e-17, -1.75596499e-17, -4.61648860e-17,\n",
       "        -5.55111512e-17,  0.00000000e+00,  1.00000000e+00]])"
      ]
     },
     "execution_count": 52,
     "metadata": {},
     "output_type": "execute_result"
    }
   ],
   "source": [
    "P + Q"
   ]
  },
  {
   "cell_type": "markdown",
   "id": "f4372665",
   "metadata": {},
   "source": [
    "### 2. \n",
    "\n",
    "Read in the matrix in the file ‘oringp.dat’ (available on Piazza) on the failure of O-rings leading to the Challenger disaster. \n",
    "\n",
    "The columns are flight number, date, number of O-rings, number failed, and temperature at launch. \n",
    "\n",
    "Compute the correlation between number of failures and temperature at launch, deleting the last, missing observation (the disaster)."
   ]
  },
  {
   "cell_type": "code",
   "execution_count": 57,
   "id": "5acb1626",
   "metadata": {},
   "outputs": [],
   "source": [
    "import pandas as pd"
   ]
  },
  {
   "cell_type": "code",
   "execution_count": 67,
   "id": "f0345643",
   "metadata": {},
   "outputs": [
    {
     "data": {
      "text/html": [
       "<div>\n",
       "<style scoped>\n",
       "    .dataframe tbody tr th:only-of-type {\n",
       "        vertical-align: middle;\n",
       "    }\n",
       "\n",
       "    .dataframe tbody tr th {\n",
       "        vertical-align: top;\n",
       "    }\n",
       "\n",
       "    .dataframe thead th {\n",
       "        text-align: right;\n",
       "    }\n",
       "</style>\n",
       "<table border=\"1\" class=\"dataframe\">\n",
       "  <thead>\n",
       "    <tr style=\"text-align: right;\">\n",
       "      <th></th>\n",
       "      <th>flight</th>\n",
       "      <th>date</th>\n",
       "      <th>num_orings</th>\n",
       "      <th>num_failures</th>\n",
       "      <th>temp</th>\n",
       "    </tr>\n",
       "  </thead>\n",
       "  <tbody>\n",
       "    <tr>\n",
       "      <th>0</th>\n",
       "      <td>1</td>\n",
       "      <td>4/12/81</td>\n",
       "      <td>6</td>\n",
       "      <td>0.0</td>\n",
       "      <td>66</td>\n",
       "    </tr>\n",
       "    <tr>\n",
       "      <th>1</th>\n",
       "      <td>2</td>\n",
       "      <td>11/12/81</td>\n",
       "      <td>6</td>\n",
       "      <td>1.0</td>\n",
       "      <td>70</td>\n",
       "    </tr>\n",
       "    <tr>\n",
       "      <th>2</th>\n",
       "      <td>3</td>\n",
       "      <td>3/22/82</td>\n",
       "      <td>6</td>\n",
       "      <td>0.0</td>\n",
       "      <td>69</td>\n",
       "    </tr>\n",
       "    <tr>\n",
       "      <th>3</th>\n",
       "      <td>5</td>\n",
       "      <td>11/11/82</td>\n",
       "      <td>6</td>\n",
       "      <td>0.0</td>\n",
       "      <td>68</td>\n",
       "    </tr>\n",
       "    <tr>\n",
       "      <th>4</th>\n",
       "      <td>6</td>\n",
       "      <td>4/04/83</td>\n",
       "      <td>6</td>\n",
       "      <td>0.0</td>\n",
       "      <td>67</td>\n",
       "    </tr>\n",
       "    <tr>\n",
       "      <th>5</th>\n",
       "      <td>7</td>\n",
       "      <td>6/18/83</td>\n",
       "      <td>6</td>\n",
       "      <td>0.0</td>\n",
       "      <td>72</td>\n",
       "    </tr>\n",
       "    <tr>\n",
       "      <th>6</th>\n",
       "      <td>8</td>\n",
       "      <td>8/30/83</td>\n",
       "      <td>6</td>\n",
       "      <td>0.0</td>\n",
       "      <td>73</td>\n",
       "    </tr>\n",
       "    <tr>\n",
       "      <th>7</th>\n",
       "      <td>9</td>\n",
       "      <td>11/28/83</td>\n",
       "      <td>6</td>\n",
       "      <td>0.0</td>\n",
       "      <td>70</td>\n",
       "    </tr>\n",
       "    <tr>\n",
       "      <th>8</th>\n",
       "      <td>41-B</td>\n",
       "      <td>2/03/84</td>\n",
       "      <td>6</td>\n",
       "      <td>1.0</td>\n",
       "      <td>57</td>\n",
       "    </tr>\n",
       "    <tr>\n",
       "      <th>9</th>\n",
       "      <td>41-C</td>\n",
       "      <td>4/06/84</td>\n",
       "      <td>6</td>\n",
       "      <td>1.0</td>\n",
       "      <td>63</td>\n",
       "    </tr>\n",
       "    <tr>\n",
       "      <th>10</th>\n",
       "      <td>41-D</td>\n",
       "      <td>8/30/84</td>\n",
       "      <td>6</td>\n",
       "      <td>1.0</td>\n",
       "      <td>70</td>\n",
       "    </tr>\n",
       "    <tr>\n",
       "      <th>11</th>\n",
       "      <td>41-G</td>\n",
       "      <td>10/05/84</td>\n",
       "      <td>6</td>\n",
       "      <td>0.0</td>\n",
       "      <td>78</td>\n",
       "    </tr>\n",
       "    <tr>\n",
       "      <th>12</th>\n",
       "      <td>51-A</td>\n",
       "      <td>11/08/84</td>\n",
       "      <td>6</td>\n",
       "      <td>0.0</td>\n",
       "      <td>67</td>\n",
       "    </tr>\n",
       "    <tr>\n",
       "      <th>13</th>\n",
       "      <td>51-C</td>\n",
       "      <td>1/24/85</td>\n",
       "      <td>6</td>\n",
       "      <td>3.0</td>\n",
       "      <td>53</td>\n",
       "    </tr>\n",
       "    <tr>\n",
       "      <th>14</th>\n",
       "      <td>51-D</td>\n",
       "      <td>4/12/85</td>\n",
       "      <td>6</td>\n",
       "      <td>0.0</td>\n",
       "      <td>67</td>\n",
       "    </tr>\n",
       "    <tr>\n",
       "      <th>15</th>\n",
       "      <td>51-B</td>\n",
       "      <td>4/29/85</td>\n",
       "      <td>6</td>\n",
       "      <td>0.0</td>\n",
       "      <td>75</td>\n",
       "    </tr>\n",
       "    <tr>\n",
       "      <th>16</th>\n",
       "      <td>51-G</td>\n",
       "      <td>6/17/85</td>\n",
       "      <td>6</td>\n",
       "      <td>0.0</td>\n",
       "      <td>70</td>\n",
       "    </tr>\n",
       "    <tr>\n",
       "      <th>17</th>\n",
       "      <td>51-F</td>\n",
       "      <td>7/29/85</td>\n",
       "      <td>6</td>\n",
       "      <td>0.0</td>\n",
       "      <td>81</td>\n",
       "    </tr>\n",
       "    <tr>\n",
       "      <th>18</th>\n",
       "      <td>51-I</td>\n",
       "      <td>8/27/85</td>\n",
       "      <td>6</td>\n",
       "      <td>0.0</td>\n",
       "      <td>76</td>\n",
       "    </tr>\n",
       "    <tr>\n",
       "      <th>19</th>\n",
       "      <td>51-J</td>\n",
       "      <td>10/03/85</td>\n",
       "      <td>6</td>\n",
       "      <td>0.0</td>\n",
       "      <td>79</td>\n",
       "    </tr>\n",
       "    <tr>\n",
       "      <th>20</th>\n",
       "      <td>61-A</td>\n",
       "      <td>10/30/85</td>\n",
       "      <td>6</td>\n",
       "      <td>2.0</td>\n",
       "      <td>75</td>\n",
       "    </tr>\n",
       "    <tr>\n",
       "      <th>21</th>\n",
       "      <td>61-B</td>\n",
       "      <td>11/26/85</td>\n",
       "      <td>6</td>\n",
       "      <td>0.0</td>\n",
       "      <td>76</td>\n",
       "    </tr>\n",
       "    <tr>\n",
       "      <th>22</th>\n",
       "      <td>61-C</td>\n",
       "      <td>1/12/86</td>\n",
       "      <td>6</td>\n",
       "      <td>1.0</td>\n",
       "      <td>58</td>\n",
       "    </tr>\n",
       "    <tr>\n",
       "      <th>23</th>\n",
       "      <td>61-I</td>\n",
       "      <td>1/28/86</td>\n",
       "      <td>6</td>\n",
       "      <td>NaN</td>\n",
       "      <td>31</td>\n",
       "    </tr>\n",
       "  </tbody>\n",
       "</table>\n",
       "</div>"
      ],
      "text/plain": [
       "   flight      date num_orings  num_failures  temp\n",
       "0       1   4/12/81          6           0.0    66\n",
       "1       2  11/12/81          6           1.0    70\n",
       "2       3   3/22/82          6           0.0    69\n",
       "3       5  11/11/82          6           0.0    68\n",
       "4       6   4/04/83          6           0.0    67\n",
       "5       7   6/18/83          6           0.0    72\n",
       "6       8   8/30/83          6           0.0    73\n",
       "7       9  11/28/83          6           0.0    70\n",
       "8    41-B   2/03/84          6           1.0    57\n",
       "9    41-C   4/06/84          6           1.0    63\n",
       "10   41-D   8/30/84          6           1.0    70\n",
       "11   41-G  10/05/84          6           0.0    78\n",
       "12   51-A  11/08/84          6           0.0    67\n",
       "13   51-C   1/24/85          6           3.0    53\n",
       "14   51-D   4/12/85          6           0.0    67\n",
       "15   51-B   4/29/85          6           0.0    75\n",
       "16   51-G   6/17/85          6           0.0    70\n",
       "17   51-F   7/29/85          6           0.0    81\n",
       "18   51-I   8/27/85          6           0.0    76\n",
       "19   51-J  10/03/85          6           0.0    79\n",
       "20   61-A  10/30/85          6           2.0    75\n",
       "21   61-B  11/26/85          6           0.0    76\n",
       "22   61-C   1/12/86          6           1.0    58\n",
       "23   61-I   1/28/86          6           NaN    31"
      ]
     },
     "execution_count": 67,
     "metadata": {},
     "output_type": "execute_result"
    }
   ],
   "source": [
    "df = pd.read_csv('oringp.dat', parse_dates=[2], sep='\\s+', header=None, names=['flight', 'date', 'num_orings', 'num_failures', 'temp'])\n",
    "df"
   ]
  },
  {
   "cell_type": "code",
   "execution_count": 69,
   "id": "3fde2241",
   "metadata": {},
   "outputs": [
    {
     "data": {
      "text/html": [
       "<div>\n",
       "<style scoped>\n",
       "    .dataframe tbody tr th:only-of-type {\n",
       "        vertical-align: middle;\n",
       "    }\n",
       "\n",
       "    .dataframe tbody tr th {\n",
       "        vertical-align: top;\n",
       "    }\n",
       "\n",
       "    .dataframe thead th {\n",
       "        text-align: right;\n",
       "    }\n",
       "</style>\n",
       "<table border=\"1\" class=\"dataframe\">\n",
       "  <thead>\n",
       "    <tr style=\"text-align: right;\">\n",
       "      <th></th>\n",
       "      <th>flight</th>\n",
       "      <th>date</th>\n",
       "      <th>num_orings</th>\n",
       "      <th>num_failures</th>\n",
       "      <th>temp</th>\n",
       "    </tr>\n",
       "  </thead>\n",
       "  <tbody>\n",
       "    <tr>\n",
       "      <th>0</th>\n",
       "      <td>1</td>\n",
       "      <td>4/12/81</td>\n",
       "      <td>6</td>\n",
       "      <td>0.0</td>\n",
       "      <td>66</td>\n",
       "    </tr>\n",
       "    <tr>\n",
       "      <th>1</th>\n",
       "      <td>2</td>\n",
       "      <td>11/12/81</td>\n",
       "      <td>6</td>\n",
       "      <td>1.0</td>\n",
       "      <td>70</td>\n",
       "    </tr>\n",
       "    <tr>\n",
       "      <th>2</th>\n",
       "      <td>3</td>\n",
       "      <td>3/22/82</td>\n",
       "      <td>6</td>\n",
       "      <td>0.0</td>\n",
       "      <td>69</td>\n",
       "    </tr>\n",
       "    <tr>\n",
       "      <th>3</th>\n",
       "      <td>5</td>\n",
       "      <td>11/11/82</td>\n",
       "      <td>6</td>\n",
       "      <td>0.0</td>\n",
       "      <td>68</td>\n",
       "    </tr>\n",
       "    <tr>\n",
       "      <th>4</th>\n",
       "      <td>6</td>\n",
       "      <td>4/04/83</td>\n",
       "      <td>6</td>\n",
       "      <td>0.0</td>\n",
       "      <td>67</td>\n",
       "    </tr>\n",
       "    <tr>\n",
       "      <th>5</th>\n",
       "      <td>7</td>\n",
       "      <td>6/18/83</td>\n",
       "      <td>6</td>\n",
       "      <td>0.0</td>\n",
       "      <td>72</td>\n",
       "    </tr>\n",
       "    <tr>\n",
       "      <th>6</th>\n",
       "      <td>8</td>\n",
       "      <td>8/30/83</td>\n",
       "      <td>6</td>\n",
       "      <td>0.0</td>\n",
       "      <td>73</td>\n",
       "    </tr>\n",
       "    <tr>\n",
       "      <th>7</th>\n",
       "      <td>9</td>\n",
       "      <td>11/28/83</td>\n",
       "      <td>6</td>\n",
       "      <td>0.0</td>\n",
       "      <td>70</td>\n",
       "    </tr>\n",
       "    <tr>\n",
       "      <th>8</th>\n",
       "      <td>41-B</td>\n",
       "      <td>2/03/84</td>\n",
       "      <td>6</td>\n",
       "      <td>1.0</td>\n",
       "      <td>57</td>\n",
       "    </tr>\n",
       "    <tr>\n",
       "      <th>9</th>\n",
       "      <td>41-C</td>\n",
       "      <td>4/06/84</td>\n",
       "      <td>6</td>\n",
       "      <td>1.0</td>\n",
       "      <td>63</td>\n",
       "    </tr>\n",
       "    <tr>\n",
       "      <th>10</th>\n",
       "      <td>41-D</td>\n",
       "      <td>8/30/84</td>\n",
       "      <td>6</td>\n",
       "      <td>1.0</td>\n",
       "      <td>70</td>\n",
       "    </tr>\n",
       "    <tr>\n",
       "      <th>11</th>\n",
       "      <td>41-G</td>\n",
       "      <td>10/05/84</td>\n",
       "      <td>6</td>\n",
       "      <td>0.0</td>\n",
       "      <td>78</td>\n",
       "    </tr>\n",
       "    <tr>\n",
       "      <th>12</th>\n",
       "      <td>51-A</td>\n",
       "      <td>11/08/84</td>\n",
       "      <td>6</td>\n",
       "      <td>0.0</td>\n",
       "      <td>67</td>\n",
       "    </tr>\n",
       "    <tr>\n",
       "      <th>13</th>\n",
       "      <td>51-C</td>\n",
       "      <td>1/24/85</td>\n",
       "      <td>6</td>\n",
       "      <td>3.0</td>\n",
       "      <td>53</td>\n",
       "    </tr>\n",
       "    <tr>\n",
       "      <th>14</th>\n",
       "      <td>51-D</td>\n",
       "      <td>4/12/85</td>\n",
       "      <td>6</td>\n",
       "      <td>0.0</td>\n",
       "      <td>67</td>\n",
       "    </tr>\n",
       "    <tr>\n",
       "      <th>15</th>\n",
       "      <td>51-B</td>\n",
       "      <td>4/29/85</td>\n",
       "      <td>6</td>\n",
       "      <td>0.0</td>\n",
       "      <td>75</td>\n",
       "    </tr>\n",
       "    <tr>\n",
       "      <th>16</th>\n",
       "      <td>51-G</td>\n",
       "      <td>6/17/85</td>\n",
       "      <td>6</td>\n",
       "      <td>0.0</td>\n",
       "      <td>70</td>\n",
       "    </tr>\n",
       "    <tr>\n",
       "      <th>17</th>\n",
       "      <td>51-F</td>\n",
       "      <td>7/29/85</td>\n",
       "      <td>6</td>\n",
       "      <td>0.0</td>\n",
       "      <td>81</td>\n",
       "    </tr>\n",
       "    <tr>\n",
       "      <th>18</th>\n",
       "      <td>51-I</td>\n",
       "      <td>8/27/85</td>\n",
       "      <td>6</td>\n",
       "      <td>0.0</td>\n",
       "      <td>76</td>\n",
       "    </tr>\n",
       "    <tr>\n",
       "      <th>19</th>\n",
       "      <td>51-J</td>\n",
       "      <td>10/03/85</td>\n",
       "      <td>6</td>\n",
       "      <td>0.0</td>\n",
       "      <td>79</td>\n",
       "    </tr>\n",
       "    <tr>\n",
       "      <th>20</th>\n",
       "      <td>61-A</td>\n",
       "      <td>10/30/85</td>\n",
       "      <td>6</td>\n",
       "      <td>2.0</td>\n",
       "      <td>75</td>\n",
       "    </tr>\n",
       "    <tr>\n",
       "      <th>21</th>\n",
       "      <td>61-B</td>\n",
       "      <td>11/26/85</td>\n",
       "      <td>6</td>\n",
       "      <td>0.0</td>\n",
       "      <td>76</td>\n",
       "    </tr>\n",
       "    <tr>\n",
       "      <th>22</th>\n",
       "      <td>61-C</td>\n",
       "      <td>1/12/86</td>\n",
       "      <td>6</td>\n",
       "      <td>1.0</td>\n",
       "      <td>58</td>\n",
       "    </tr>\n",
       "  </tbody>\n",
       "</table>\n",
       "</div>"
      ],
      "text/plain": [
       "   flight      date num_orings  num_failures  temp\n",
       "0       1   4/12/81          6           0.0    66\n",
       "1       2  11/12/81          6           1.0    70\n",
       "2       3   3/22/82          6           0.0    69\n",
       "3       5  11/11/82          6           0.0    68\n",
       "4       6   4/04/83          6           0.0    67\n",
       "5       7   6/18/83          6           0.0    72\n",
       "6       8   8/30/83          6           0.0    73\n",
       "7       9  11/28/83          6           0.0    70\n",
       "8    41-B   2/03/84          6           1.0    57\n",
       "9    41-C   4/06/84          6           1.0    63\n",
       "10   41-D   8/30/84          6           1.0    70\n",
       "11   41-G  10/05/84          6           0.0    78\n",
       "12   51-A  11/08/84          6           0.0    67\n",
       "13   51-C   1/24/85          6           3.0    53\n",
       "14   51-D   4/12/85          6           0.0    67\n",
       "15   51-B   4/29/85          6           0.0    75\n",
       "16   51-G   6/17/85          6           0.0    70\n",
       "17   51-F   7/29/85          6           0.0    81\n",
       "18   51-I   8/27/85          6           0.0    76\n",
       "19   51-J  10/03/85          6           0.0    79\n",
       "20   61-A  10/30/85          6           2.0    75\n",
       "21   61-B  11/26/85          6           0.0    76\n",
       "22   61-C   1/12/86          6           1.0    58"
      ]
     },
     "execution_count": 69,
     "metadata": {},
     "output_type": "execute_result"
    }
   ],
   "source": [
    "df = df.dropna()\n",
    "df"
   ]
  },
  {
   "cell_type": "code",
   "execution_count": 73,
   "id": "1020f0c5",
   "metadata": {},
   "outputs": [
    {
     "data": {
      "text/plain": [
       "-0.5613284258418356"
      ]
     },
     "execution_count": 73,
     "metadata": {},
     "output_type": "execute_result"
    }
   ],
   "source": [
    "# Convert to numeric types\n",
    "df['num_failures'] = pd.to_numeric(df['num_failures'])\n",
    "df['tmp'] = pd.to_numeric(df['temp'])\n",
    "\n",
    "# Correlation\n",
    "correlation = df['num_failures'].corr(df['temp'])\n",
    "correlation"
   ]
  },
  {
   "cell_type": "markdown",
   "id": "df559f13",
   "metadata": {},
   "source": [
    "### 3.Consider the mixed effect model\n",
    "$$y_i=x_i'\\beta+z_i'\\gamma+\\epsilon_i,\\ i=1,\\cdots,n$$\n",
    "\n",
    "where $\\epsilon_i \\sim N(0, \\sigma_0^2)$ are independent normal errors, $\\beta\\in\\mathbf{R}^p$ are fixed effects, $\\gamma\\in\\mathbf{R}^q$ are random effects assumed to be $N(0_q,\\sigma_1^2I_q)$, $\\gamma$ and $\\epsilon_i$ are independent. For simplicity, assume $\\mu_i=x_i'\\beta$. Let $y = (y_1, \\cdots, y_n)'$, $\\mu = (\\mu_1,\\cdots, \\mu_n)'$, $Z = (z_1,\\cdots , z_n)'$, then $y \\in\\mathbf{R}^n$, $\\mu\\in\\mathbf{R}^n$, $Z \\in \\mathbf{R}^{n\\times q}$, and $y\\sim\\ N(\\mu, \\sigma_1^2ZZ'+\\sigma_0^2I_n)$. The log-density function is given by\n",
    "$$-\\frac{n}{2}\\log(2\\pi)-\\frac{1}{2}\\log(\\det(\\sigma_1^2ZZ'+\\sigma_0^2I_n))-\\frac{1}{2}(y-\\mu)'(\\sigma_1^2ZZ'+\\sigma_0^2I_n)^{-1}(y-\\mu).$$\n",
    "\n",
    "\n",
    "Please write a function, call it `dmvnorm_lowrank(y, mu, Z,sigma0,sigma1, log = FALSE)` that evaluates the (log)-density function at a given $y\\in\\mathbf{R}^n$. Choose values for $n(> 5)$ and $q(> 3)$, test your function on simulated data.\n",
    "\n",
    "Notes: \n",
    "\n",
    "1) When `log = TRUE`, your function should calculate the log likelihood; when `log = FALSE`, your function should calculate the original likelihood function. The default uses `log = FALSE`. \n",
    "\n",
    "2) Use the `np.random.seed` function before generating data from a random distribution."
   ]
  },
  {
   "cell_type": "code",
   "execution_count": 101,
   "id": "a07083ed",
   "metadata": {},
   "outputs": [],
   "source": [
    "def dmvnorm_lowrank(y, mu, Z, sigma0, sigma1, log=False):\n",
    "    n = mu.shape[0]\n",
    "    # The most trivial way to implement this. It is bad in time complexity, though.\n",
    "    log_dens = -n/2*np.log(2*np.pi)\\\n",
    "    -1/2*np.log(np.linalg.det(sigma1**2 * Z @ Z.T + sigma0**2 * np.eye(n)))\\\n",
    "    -1/2*(y-mu).T @ np.linalg.inv(sigma1**2 * Z @ Z.T + sigma0**2 * np.eye(n)) @ (y-mu)\n",
    "    return log_dens if log else np.exp(log_dens)"
   ]
  },
  {
   "cell_type": "markdown",
   "id": "3e37cd21",
   "metadata": {},
   "source": [
    "Define $X:=(x_1,\\cdots,x_n)'$. \n",
    "\n",
    "Then $\\mu=X\\beta$."
   ]
  },
  {
   "cell_type": "code",
   "execution_count": 123,
   "id": "d590b9f7",
   "metadata": {},
   "outputs": [],
   "source": [
    "# Set random seed to be 1234\n",
    "np.random.seed(1234)\n",
    "# Initialization of basic parameters\n",
    "n = 7\n",
    "q = 4\n",
    "p = 5 # needs to be smaller than n\n",
    "sigma0 = 5\n",
    "sigma1 = 10\n",
    "# Ramdomly generate eps and gamma\n",
    "eps = np.random.normal(0, sigma0, n) # Trivial. Notice that sigma here is standard deviation!\n",
    "gamma = np.random.normal(0, sigma1, q) # The multi-normal form indicates all gamma are iid from N(0,sigma1^2)\n",
    "# Randomly generate some X, Z, and beta\n",
    "X = np.random.normal(size=(n, p))\n",
    "beta = np.random.normal(size=p)\n",
    "Z = np.random.normal(size=(n, q))\n",
    "# Compute mu and y w.r.t X, beta, Z, gamma, and eps\n",
    "mu = X @ beta\n",
    "y = mu + Z @ gamma + eps"
   ]
  },
  {
   "cell_type": "code",
   "execution_count": 124,
   "id": "4de7a206",
   "metadata": {},
   "outputs": [
    {
     "name": "stdout",
     "output_type": "stream",
     "text": [
      "-27.64578963590802\n"
     ]
    }
   ],
   "source": [
    "# Compute log-density\n",
    "log_like = dmvnorm_lowrank(y, mu, Z, sigma0, sigma1, log=True)\n",
    "print(log_like)"
   ]
  },
  {
   "cell_type": "code",
   "execution_count": 125,
   "id": "ec36c181",
   "metadata": {},
   "outputs": [
    {
     "name": "stdout",
     "output_type": "stream",
     "text": [
      "9.853399997297273e-13\n"
     ]
    }
   ],
   "source": [
    "log_like = dmvnorm_lowrank(y, mu, Z, sigma0, sigma1)\n",
    "print(log_like)"
   ]
  }
 ],
 "metadata": {
  "kernelspec": {
   "display_name": "Python 3 (ipykernel)",
   "language": "python",
   "name": "python3"
  },
  "language_info": {
   "codemirror_mode": {
    "name": "ipython",
    "version": 3
   },
   "file_extension": ".py",
   "mimetype": "text/x-python",
   "name": "python",
   "nbconvert_exporter": "python",
   "pygments_lexer": "ipython3",
   "version": "3.9.12"
  }
 },
 "nbformat": 4,
 "nbformat_minor": 5
}
