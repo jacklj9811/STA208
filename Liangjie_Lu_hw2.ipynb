{
 "cells": [
  {
   "cell_type": "markdown",
   "id": "f2ba0a96",
   "metadata": {},
   "source": [
    "# STA 208: Homework 2 (Do not distribute)\n",
    "\n",
    "## Due 05/12/2023 midnight (11:59pm)\n",
    "\n",
    "__Instructions:__ \n",
    "\n",
    "1. Submit your homework using one file name ”LastName_FirstName_hw2.html” on canvas. \n",
    "2. The written portions can be either done in markdown and TeX in new cells or written by hand and scanned. Using TeX is strongly preferred. However, if you have scanned solutions for handwriting, you can submit a zip file. Please make sure your handwriting is clear and readable and your scanned files are displayed properly in your jupyter notebook. \n",
    "3. Your code should be readable; writing a piece of code should be compared to writing a page of a book. Adopt the one-statement-per-line rule. Consider splitting a lengthy statement into multiple lines to improve readability. (You will lose one point for each line that does not follow the one-statementper-line rule)\n",
    "4. To help understand and maintain code, you should always add comments to explain your code. (homework with no comments will receive 0 points). For a very long comment, please break it into multiple lines.\n",
    "5. In your Jupyter Notebook, put your answers in new cells after each exercise. You can make as many new cells as you like. Use code cells for code and Markdown cells for text.\n",
    "6. Please make sure to print out the necessary results to avoid losing points. We should not run your code to figure out your answers. \n",
    "7. However, also make sure we are able to open this notebook and run everything here by running the cells in sequence; in case that the TA wants to check the details.\n",
    "8. You will be graded on correctness of your math, code efficiency and succinctness, and conclusions and modelling decisions\n"
   ]
  },
  {
   "cell_type": "markdown",
   "id": "b6525107",
   "metadata": {},
   "source": [
    "### Exercise 1 (Logistic regression)\n",
    "\n",
    "(15 points) In class, we studied the logit model with 2 classes. Now consider the multilogit model with $K$ classes. Let $\\beta$ be the $(p+1)(K-1)$-vector consisting of all the coefficients. Define a suitably enlarged version of the input vector x to accomodate this vectorized coefficient matrix. Derive the Newton-Raphson algorithm for maximizing the multinomial log-likelihood, and describe how you implement the algorithm (e.g., you can write a sudo code). "
   ]
  },
  {
   "cell_type": "markdown",
   "id": "9cf1ea20",
   "metadata": {},
   "source": [
    "**Treating $\\beta$ as a long vector directly might not be efficient in both calculation and reasoning process. Here, I treat $\\beta$ as a matrix before the process of taking so-called second order partial derivative. When taking so-called partial derivatives, simply apply matrix vectorization to make them work.**"
   ]
  },
  {
   "cell_type": "markdown",
   "id": "89295125",
   "metadata": {},
   "source": [
    "\n",
    "\n",
    "The multilogit model with $K$ classes is a generalization of the binary logistic regression model. Instead of modeling the probability of a binary outcome, it models the probability of a categorical outcome with $K$ possible classes. Let $Y$ be a categorical random variable taking values in $\\{1, 2, \\dots, K\\}$, and let $X$ be a $p$-dimensional vector of predictors. The multilogit model assumes that the log-odds of $Y$ taking on value $k$ versus a reference category are linear functions of the predictors:\n",
    "$$\n",
    "\\log\\left(\\frac{P(Y=k|X)}{P(Y=K|X)}\\right) = \\beta_{0k} +  X_1\\beta_{1k} + \\cdots +  X_p\\beta_{pk}, \\quad k=1,2,\\dots,K-1,\n",
    "$$\n",
    "where $\\beta_{jk}$ is the coefficient for the $j$-th predictor and the $k$-th class, and $\\beta_{0k}$ is the intercept for the $k$-th class. Note that the coefficient **matrix** $\\beta$ has dimension $(p+1) \\times (K-1)$, because there is no need to estimate the coefficients for the reference category."
   ]
  },
  {
   "cell_type": "markdown",
   "id": "c369a211",
   "metadata": {},
   "source": [
    "Let us compress this expression and apply this formula to all $n$ $(Y,X)$ pairs:\n",
    "\n",
    "$$\n",
    "\\log \\left( \\frac{P_{i,k}}{P_{i,K}}\\right) = X_{i,\\cdot}\\beta_{\\cdot,k}=(X\\beta)_{i,k}, \\quad  \\forall k\\in\\{K-1\\}\\triangleq \\{1,2,\\cdots,K-1\\},\\quad \\forall i\\in\\{n\\}\n",
    "$$\n",
    "\n",
    "where \n",
    "$\\beta_{\\cdot,k}\\triangleq\n",
    "\\begin{pmatrix}\n",
    "\\beta_{0k} \\\\ \\beta_{1k} \\\\ \\cdots \\\\ \\beta_{pk}\n",
    "\\end{pmatrix}$, \n",
    "$X\\triangleq\\begin{pmatrix}\n",
    "1 & X_{11} & \\cdots & X_{1p}\\\\\n",
    "1 & X_{21} & \\cdots & X_{2p}\\\\\n",
    "\\vdots & \\vdots & \\ddots & \\vdots\\\\\n",
    "1 & X_{n1} & \\cdots & X_{np}\\\\\n",
    "\\end{pmatrix}$,\n",
    "$P_{i,k}\\triangleq P(Y=k|X_{i,\\cdot})$."
   ]
  },
  {
   "cell_type": "markdown",
   "id": "bda1c068",
   "metadata": {},
   "source": [
    "Notice that \n",
    "$$\n",
    "\\begin{align}\n",
    "&P_{i,k} =P_{i,K}\\exp\\left( (X\\beta)_{i,k} \\right), \\forall k\\in\\{K-1\\}, \\forall i\n",
    "\\\\\\Rightarrow& \\sum_{i=1}^{K} P_{i,k}=P_{i,K}\\left[ 1 + \\sum_{k=1}^{K-1}\\exp\\left( (X\\beta)_{i,k} \\right)\\right]=1, \\forall i\n",
    "\\\\\\Rightarrow& P_{i,K}=\\left[ 1 + \\sum_{k=1}^{K-1}\\exp\\left( (X\\beta)_{i,k}\\right) \\right]^{-1}, \\forall i.\n",
    "\\end{align}\n",
    "$$"
   ]
  },
  {
   "cell_type": "markdown",
   "id": "e08bf20a",
   "metadata": {},
   "source": [
    "To derive the Newton-Raphson algorithm for maximizing the multinomial log-likelihood, we start by writing the likelihood function for a single observation $(X_i, Y_i)$:\n",
    "$$\n",
    "L_i(\\beta) = \\prod_{k=1}^{K} \\left(P(Y_i=k|X_i)\\right)^{I(Y_i=k)}=\\prod_{k=1}^{K}\\left(P_{i,k}\\right)^{I(Y_i=k)},\n",
    "$$\n",
    "where $I(Y_i=k)$ is the indicator function that takes value 1 if $Y_i=k$ and 0 otherwise. Taking the logarithm and summing over all observations, we get the log-likelihood function for the entire sample:"
   ]
  },
  {
   "cell_type": "markdown",
   "id": "5cd771ca",
   "metadata": {},
   "source": [
    "\\begin{align}\n",
    "\\ell(\\beta) =& \\sum_{i=1}^{n} \\sum_{k=1}^{K} I(Y_i=k) \\log(P(Y_i=k|X_i)) \n",
    "\\\\=& \\sum_{i=1}^{n} \\sum_{k=1}^{K-1} I(Y_i=k) \n",
    "\\left[\\beta_{0k} +  X_{i1} \\beta_{1k}+ \\cdots +  X_{ip} \\beta_{pk}\n",
    "- \\log\n",
    "\\left(1+\\sum_{j=1}^{K-1}\\exp(\\beta_{0j} +  X_{i1}\\beta_{1j} + \\cdots +  X_{ip}\\beta_{pj})\n",
    "\\right)\n",
    "\\right]\n",
    "\\\\&+\n",
    "\\sum_{i=1}^n I(Y_i=K)\\left[-\\log\\left(1 + \\sum_{j=1}^{K-1}\\exp(\\beta_{0j} + X_{i1}\\beta_{1j} + \\cdots +  X_{ip}\\beta_{pj} ) \\right)\\right]\n",
    "\\\\=&\n",
    "\\sum_{i=1}^n \\sum_{k=1}^{K-1} I(Y_i = k) (X\\beta)_{i,k}\n",
    "+ \\sum_{i=1}^n -\\log \\left( 1 + \\sum_{j=1}^{K-1} \\exp\\left(  (X\\beta)_{i,j} \\right) \\right) \\sum_{k=1}^{K} I(Y_i=k)\n",
    "\\\\=&\n",
    "\\sum_{i=1}^n \\sum_{k=1}^{K-1} I(Y_i = k) (X\\beta)_{i,k}\n",
    "+ \\sum_{i=1}^n -\\log \\left( 1 + \\sum_{j=1}^{K-1} \\exp\\left(  (X\\beta)_{i,j} \\right) \\right) \n",
    "\\end{align}"
   ]
  },
  {
   "cell_type": "markdown",
   "id": "12cb792a",
   "metadata": {},
   "source": [
    "The goal is to find the values of $\\beta$ that maximize this function.\n",
    "\n",
    "To apply the Newton-Raphson algorithm, we need to compute the first and second derivatives of the log-likelihood function with respect to $\\beta$. \n",
    "\n",
    "The first derivative of the log-likelihood function with respect to $\\beta_{jq}$ is"
   ]
  },
  {
   "cell_type": "markdown",
   "id": "c00d5a43",
   "metadata": {},
   "source": [
    "$$\n",
    "\\begin{align}\n",
    "\\frac{\\partial \\ell(\\beta)}{\\partial \\beta_{jq}} \n",
    "=& \\sum_{i=1}^n I(Y_i=q) X_{ij} + \\sum_{i=1}^n \\frac{-\\exp \\left( (X\\beta)_{i,q} \\right)}{1+\\sum_{t=1}^{K-1}\\exp\\left((X\\beta)_{i,t}\\right)} X_{ij}\n",
    "\\\\=&\n",
    "\\sum_{i=1}^n X_{ij} \\left[I(Y_i=q) - P_{i,q}\\right] = \\left(X'\\right)_{j,\\cdot}\\left[I(Y=q)-P_{\\cdot,q}\\right]\n",
    "=\\left(X'\\left[I_Y-P_{\\cdot,\\cdot}\\right]\\right)_{j,q}\\ \\ ,\n",
    "\\end{align}\n",
    "$$"
   ]
  },
  {
   "cell_type": "markdown",
   "id": "3a4c953f",
   "metadata": {},
   "source": [
    "where $I(Y=q)\\triangleq \\begin{pmatrix} I(Y_1=q)\\\\ I(Y_2=q) \\\\ \\vdots \\\\ I(Y_n=q)\\end{pmatrix}$, \n",
    "$I_Y\\triangleq \n",
    "\\begin{pmatrix} \n",
    "    I(Y_1=1) & I(Y_1=2) & \\cdots & I(Y_1=K-1)\\\\\n",
    "    I(Y_2=1) & I(Y_2=2) & \\cdots & I(Y_2=K-1)\\\\\n",
    "    \\vdots & \\vdots & \\ddots & \\vdots\\\\\n",
    "    I(Y_n=1) & I(Y_n=2) & \\cdots & I(Y_n=K-1)\\\\\n",
    "\\end{pmatrix}$, \n",
    "$\\forall j=0,1,\\cdots,p,\\forall q\\in\\{K-1\\}$"
   ]
  },
  {
   "cell_type": "markdown",
   "id": "b8bd91c4",
   "metadata": {},
   "source": [
    "The vectorization of a matrix, i.e. vec$(\\cdot)$, is defined as \n",
    "$$\n",
    "\\text{vec}(A)\\triangleq\n",
    "\\begin{pmatrix}\n",
    "A_{\\cdot,1}\\\\\n",
    "A_{\\cdot,2}\\\\\n",
    "\\vdots\\\\\n",
    "A_{\\cdot,mn}\\\\\n",
    "\\end{pmatrix},\\ \n",
    "\\forall A\\in\\mathbf{R}^{m\\times n},\\ \\forall m,n\\in \\mathbf{Z}_{++}.\n",
    "$$"
   ]
  },
  {
   "cell_type": "markdown",
   "id": "5c007d93",
   "metadata": {},
   "source": [
    "So\n",
    "$$\n",
    "\\frac{\\partial \\ell(\\beta)}{\\partial \\beta} \n",
    "=\\left(X'\\left[I_Y-P_{\\cdot,\\cdot}\\right]\\right)\n",
    "\\Rightarrow \n",
    "\\frac{\\partial \\ell(\\beta)}{\\partial \\text{vec}(\\beta)}\n",
    "=\\text{vec}\\left(X'\\left[I_Y-P_{\\cdot,\\cdot}\\right]\\right) \n",
    "$$"
   ]
  },
  {
   "cell_type": "markdown",
   "id": "786cab31",
   "metadata": {},
   "source": [
    "Therefore,\n",
    "$$\n",
    "\\begin{align}\n",
    "\\frac{\\partial}{\\partial \\beta_{\\tilde j \\tilde q}}\\left( \\frac{\\partial \\ell(\\beta)}{\\partial \\beta} \\right) \n",
    "=& \\frac{\\partial}{\\partial \\beta_{\\tilde j \\tilde q}}\\left(X'\\left[I_Y-P_{\\cdot,\\cdot}\\right]\\right)\n",
    "=\\frac{\\partial}{\\partial \\beta_{\\tilde j \\tilde q}}\\left(-X'P_{\\cdot,\\cdot}\\right)\n",
    "\\\\=&\n",
    "-X'\\frac{\\partial}{\\partial \\beta_{\\tilde j \\tilde q}}\\left(P_{\\cdot,\\cdot}\\right)\n",
    "\\end{align}\n",
    "$$"
   ]
  },
  {
   "cell_type": "markdown",
   "id": "5a4e986f",
   "metadata": {},
   "source": [
    "where $\\left[ \\frac{\\partial}{\\partial \\beta_{\\tilde j \\tilde q}}\\left(P_{\\cdot,\\cdot}\\right) \\right]_{i,q}=P_{i,q}X_{i,\\tilde j}[I(q=\\tilde q)-P_{i,\\tilde q}]\\ \\forall i,q$."
   ]
  },
  {
   "cell_type": "markdown",
   "id": "fd726922",
   "metadata": {},
   "source": [
    "So \n",
    "$$\n",
    "\\begin{align}\n",
    "\\frac{\\partial^2}{\\partial \\text{vec}(\\beta)\\partial \\text{vec}(\\beta)' }\\ell(\\beta)\n",
    "=&\n",
    "\\frac{\\partial\\left(\\frac{\\ell (\\beta)}{\\partial \\text{vec}(\\beta)}\\right)}{\\partial \\text{vec}(\\beta)'}\n",
    "\\\\=&\n",
    "\\frac{\\partial\\left(\\text{vec}\\left(\\frac{\\ell (\\beta)}{\\partial \\beta}\\right)\\right)}{\\partial \\text{vec}(\\beta)'}\n",
    "\\\\=&\n",
    "\\frac{\\partial\\left(\\text{vec}\\left( X'[I_Y-P_{\\cdot,\\cdot}]\\right)\\right)}{\\partial \\text{vec}(\\beta)'}\n",
    "\\\\=&\n",
    "\\begin{pmatrix}\n",
    "\\frac{\\partial}{\\partial \\text{vec}(\\beta)_1}&\\frac{\\partial}{\\partial \\text{vec}(\\beta)_2}&\\cdots&\\frac{\\partial}{\\partial \\text{vec}(\\beta)_{[(p+1)\\times(K-1)]}}\\quad\n",
    "\\end{pmatrix}\n",
    "\\text{vec}\\left( X'[I_Y-P_{\\cdot,\\cdot}]\\right)\n",
    "\\\\=&\n",
    "\\begin{pmatrix}\n",
    "\\frac{\\text{vec}\\ \\partial}{\\partial \\text{vec}(\\beta)_1} & \n",
    "\\frac{\\text{vec}\\ \\partial}{\\partial \\text{vec}(\\beta)_2} & \n",
    "\\cdots &\n",
    "\\frac{\\text{vec}\\ \\partial}{\\partial \\text{vec}(\\beta)_{[(p+1)(K-1)]}}\\quad\n",
    "\\end{pmatrix}\n",
    "\\left( X'[I_Y-P_{\\cdot,\\cdot}]\\right)\n",
    "\\\\=&\n",
    "\\begin{pmatrix}\n",
    "\\frac{\\text{vec}\\ \\partial}{\\partial \\text{vec}(\\beta)_1} & \n",
    "\\frac{\\text{vec}\\ \\partial}{\\partial \\text{vec}(\\beta)_2} & \n",
    "\\cdots &\n",
    "\\frac{\\text{vec}\\ \\partial}{\\partial \\text{vec}(\\beta)_{[(p+1)(K-1)]}}\\quad\n",
    "\\end{pmatrix}\n",
    "\\left( -X'P_{\\cdot,\\cdot}\\right)\n",
    "\\\\=&\n",
    "\\begin{pmatrix}\n",
    "\\frac{\\text{vec}\\ (X'\\partial)}{\\partial \\text{vec}(\\beta)_1} & \n",
    "\\frac{\\text{vec}\\ (X'\\partial)}{\\partial \\text{vec}(\\beta)_2} & \n",
    "\\cdots &\n",
    "\\frac{\\text{vec}\\ (X'\\partial)}{\\partial \\text{vec}(\\beta)_{[(p+1)(K-1)]}}\\quad\n",
    "\\end{pmatrix}\n",
    "\\left( -P_{\\cdot,\\cdot}\\right)\n",
    "\\end{align}\n",
    "$$"
   ]
  },
  {
   "cell_type": "markdown",
   "id": "0d39ee9a",
   "metadata": {},
   "source": [
    "With the knowledge that $\\left[ \\frac{\\partial}{\\partial \\beta_{\\tilde j \\tilde q}}\\left(P_{\\cdot,\\cdot}\\right) \\right]_{i,q}=P_{i,q}X_{i,\\tilde j}[I(q=\\tilde q)-P_{i,\\tilde q}]\\ \\forall i,q$, I can solve the above problem according to the specific reordering rule of vec$(\\cdot)$."
   ]
  },
  {
   "cell_type": "markdown",
   "id": "52e88212",
   "metadata": {},
   "source": [
    "To find out the best fit $\\beta$, I need to solve this problem:\n",
    "$$\\frac{\\partial \\ell (\\beta)}{\\partial \\text{vec}(\\beta)}=0$$"
   ]
  },
  {
   "cell_type": "markdown",
   "id": "aa2bcc58",
   "metadata": {},
   "source": [
    "According to the Newton's algorithm, I need to iterate $n_{\\text{iter}}=1,2,\\cdots,n_{\\text{max}}$ with $\\beta^{(0)}$, an initial guess of $\\beta$, and a step size $s$,\n",
    "$$\n",
    "\\text{vec}\\left(\\beta^{(n_{\\text{iter}}\\ )}\\right) = \\text{vec}\\left(\\beta^{(n_{\\text{iter}}\\ -1)}\\right) + s\\left[\\Big(-\\frac{\\partial^2}{\\partial \\text{vec}(\\beta)\\partial \\text{vec}(\\beta)' }\\ell(\\beta)\\Big)^{-1} \\frac{\\partial \\ell (\\beta)}{\\partial \\text{vec}(\\beta)}\\right]\\bigg|_{\\beta=\\beta^{\\left(n_{\\ \\text{iter}}\\ \\ -1\\right)}}\\ \\ .\n",
    "$$"
   ]
  },
  {
   "cell_type": "markdown",
   "id": "6e010a57",
   "metadata": {},
   "source": [
    "The vec$(\\cdot)$ function systematically reorders a sequence of numbers without changing or omitting any information about their values. Consequently, it is evident that this function is invertible, although the form of the inverse function vec$(\\cdot)^{-1}$ may not be immediately apparent. In other words, obtaining vec$(\\beta^{(n_{\\text{iter}}\\ )})$ is equivalent to obtaining $\\beta^{(n_{\\text{iter}}\\ )}$ and vice versa."
   ]
  },
  {
   "cell_type": "markdown",
   "id": "58cb799a",
   "metadata": {},
   "source": [
    "Just select a random initial guess $\\beta^{(0)}$ and a reasonable step size $s$ to start the above iterating process, then I can get an approximation of the best $\\beta$ to this question."
   ]
  },
  {
   "cell_type": "markdown",
   "id": "9f02eaca",
   "metadata": {},
   "source": [
    "### Exercise 2 (Support vector machine)\n",
    "\n",
    "_Natural language processing_ (NLP) is a branch of artificial intelligence which gives computers the ability to learn text and spoken words in much the same way human beings can.\n",
    "\n",
    "In python, text data can be converted into vector data through a vectorization operation.\n",
    "Two vectorizer packages in Python are ``sklearn.feature_extraction.text.CountVectorizer`` and ``sklearn.feature_extraction.text.TfidfVectorizer``. A corpus is a collection of documents and the dictionary is all of the words in the corpus. A simple vectorizer will let $X_{i,j}$ be the number of times the $j$th word is in the $i$th document. \n",
    "\n",
    "Bag-of-words models is one of the most popular model in NLP. The model treats each document as a set of words but ignoring the order of those words. \n",
    "\n",
    "In this exercise, you will learn how to classify a text using SVM. The dataset includes two CSV files (`Corona_NLP_train.csv` and `Corona_NLP_test.csv`) that contain IDs and sentiment scores of the tweets related to the COVID-19 pandemic. The real-time Twitter feed is monitored for coronavirus-related tweets using 90+ different keywords and hashtags that are commonly used while referencing the pandemic. The oldest tweets in this dataset date back to October 01, 2019. \n",
    "\n",
    "\n",
    "The training dataset contains five columns: \n",
    "- UserName\t\n",
    "- ScreenName\t\n",
    "- Location\t\n",
    "- TweetAt\t\n",
    "- OriginalTweet\t\n",
    "- Sentiment (five labels: `extremely positive`, `positive`, `negative`, `extremely negative`, `neutral`)\n",
    "\n",
    "The task is to predict sentiment basedon the original tweet. Here, we combine `extremely positive` and `positive` to `positive` and combine `extremely negative` and `negative` to `negative`. So, the sentiment contains three labels.\n",
    "Your goal is to apply svm to predict the three labels based on OriginalTweet. Indeed, one can view this as a classification problem with three labels. \n",
    "\n",
    "I already attached the file `dataprocessing.ipynb` for processing the data. The code is directly copied from this [website](https://www.kaggle.com/code/mehmetlaudatekman/text-classification-svm-explained/notebook).\n",
    "\n",
    "Please answer the following questions:\n",
    " \n",
    "1. (15 points) Use sklearn svm.SVC on the TRAIN split (`Corona_NLP_train.csv`) and predict on the TEST split (`Corona_NLP_test.csv`). Plot your ROC and PR (Precision-Recall) curves for predicting `positive` (versus everything else); use the linear kernel and set the C parameter to be 1. Do the same for predicting the `negative` label versus everything else. Please write the code for generating the ROC curve by yourself.\n",
    "2. (10 points) In this problem, we have three labels (instead of two). In class, we only learned SVM for solving a two-class classification problem. Describe (using your own words) how the python package `svm.SVC` fits SVM for multi-class classification.\n",
    "3. (10 points) Choose several different values for $C$ (some are smaller than 1, some are bigger than 1), plot the ROC curves for predicting 'positive' (versus everything else), and predicting 'negative' (versus everything else). Comment on your findings. \n",
    "4. (Bonus 10 points) Explore how to use logistic regression to classify this text. Implement the method. Comment on its prediction accuracy and compare the ROC curve with the SVM ROC curve. \n",
    "\n",
    "__Note:__ the PR curve is a ratio of the number of true positives divided by the sum of the true positives and false positives. It describes how good a model is at predicting the positive class."
   ]
  },
  {
   "cell_type": "markdown",
   "id": "31d9c586",
   "metadata": {},
   "source": [
    "**Ans 1.**"
   ]
  },
  {
   "cell_type": "code",
   "execution_count": 1,
   "id": "4f674248",
   "metadata": {},
   "outputs": [],
   "source": [
    "# import packages \n",
    "import numpy as np\n",
    "import pandas as pd\n",
    "import nltk\n",
    "from nltk.corpus import stopwords\n",
    "import matplotlib.pyplot as plt\n",
    "from nltk.stem import WordNetLemmatizer\n",
    "from sklearn.feature_extraction.text import CountVectorizer\n",
    "import pickle\n",
    "import time\n",
    "import re"
   ]
  },
  {
   "cell_type": "code",
   "execution_count": 2,
   "id": "a2863f81",
   "metadata": {},
   "outputs": [],
   "source": [
    "# load training and test datasets\n",
    "\n",
    "train_set = pd.read_csv('Corona_NLP_train.csv',encoding=\"latin1\") # do not forget to change the path\n",
    "test_set = pd.read_csv('Corona_NLP_test.csv',encoding=\"latin1\")"
   ]
  },
  {
   "cell_type": "code",
   "execution_count": 3,
   "id": "1e638c7e",
   "metadata": {},
   "outputs": [
    {
     "data": {
      "text/html": [
       "<div>\n",
       "<style scoped>\n",
       "    .dataframe tbody tr th:only-of-type {\n",
       "        vertical-align: middle;\n",
       "    }\n",
       "\n",
       "    .dataframe tbody tr th {\n",
       "        vertical-align: top;\n",
       "    }\n",
       "\n",
       "    .dataframe thead th {\n",
       "        text-align: right;\n",
       "    }\n",
       "</style>\n",
       "<table border=\"1\" class=\"dataframe\">\n",
       "  <thead>\n",
       "    <tr style=\"text-align: right;\">\n",
       "      <th></th>\n",
       "      <th>OriginalTweet</th>\n",
       "      <th>Sentiment</th>\n",
       "    </tr>\n",
       "  </thead>\n",
       "  <tbody>\n",
       "    <tr>\n",
       "      <th>0</th>\n",
       "      <td>@MeNyrbie @Phil_Gahan @Chrisitv https://t.co/i...</td>\n",
       "      <td>Neutral</td>\n",
       "    </tr>\n",
       "    <tr>\n",
       "      <th>1</th>\n",
       "      <td>advice Talk to your neighbours family to excha...</td>\n",
       "      <td>Positive</td>\n",
       "    </tr>\n",
       "    <tr>\n",
       "      <th>2</th>\n",
       "      <td>Coronavirus Australia: Woolworths to give elde...</td>\n",
       "      <td>Positive</td>\n",
       "    </tr>\n",
       "    <tr>\n",
       "      <th>3</th>\n",
       "      <td>My food stock is not the only one which is emp...</td>\n",
       "      <td>Positive</td>\n",
       "    </tr>\n",
       "    <tr>\n",
       "      <th>4</th>\n",
       "      <td>Me, ready to go at supermarket during the #COV...</td>\n",
       "      <td>Extremely Negative</td>\n",
       "    </tr>\n",
       "  </tbody>\n",
       "</table>\n",
       "</div>"
      ],
      "text/plain": [
       "                                       OriginalTweet           Sentiment\n",
       "0  @MeNyrbie @Phil_Gahan @Chrisitv https://t.co/i...             Neutral\n",
       "1  advice Talk to your neighbours family to excha...            Positive\n",
       "2  Coronavirus Australia: Woolworths to give elde...            Positive\n",
       "3  My food stock is not the only one which is emp...            Positive\n",
       "4  Me, ready to go at supermarket during the #COV...  Extremely Negative"
      ]
     },
     "execution_count": 3,
     "metadata": {},
     "output_type": "execute_result"
    }
   ],
   "source": [
    "# remove unrelevant_features\n",
    "\n",
    "unrelevant_features = [\"UserName\",\"ScreenName\",\"Location\",\"TweetAt\"]\n",
    "train_set.drop(unrelevant_features,inplace=True,axis=1)\n",
    "test_set.drop(unrelevant_features,inplace=True,axis=1)\n",
    "train_set.head()"
   ]
  },
  {
   "cell_type": "code",
   "execution_count": 4,
   "id": "a8993175",
   "metadata": {},
   "outputs": [
    {
     "data": {
      "text/plain": [
       "Positive              11422\n",
       "Negative               9917\n",
       "Neutral                7713\n",
       "Extremely Positive     6624\n",
       "Extremely Negative     5481\n",
       "Name: Sentiment, dtype: int64"
      ]
     },
     "execution_count": 4,
     "metadata": {},
     "output_type": "execute_result"
    }
   ],
   "source": [
    "# split data based on sentiment values: positive, neutral or negative.\n",
    "# Extremely positive is combined with positive. Similar to extremely negative\n",
    "train_set[\"Sentiment\"].value_counts()"
   ]
  },
  {
   "cell_type": "code",
   "execution_count": 5,
   "id": "5a1d3267",
   "metadata": {},
   "outputs": [
    {
     "name": "stdout",
     "output_type": "stream",
     "text": [
      "Positive              11422\n",
      "Extremely Positive     6624\n",
      "Name: Sentiment, dtype: int64\n"
     ]
    },
    {
     "data": {
      "text/html": [
       "<div>\n",
       "<style scoped>\n",
       "    .dataframe tbody tr th:only-of-type {\n",
       "        vertical-align: middle;\n",
       "    }\n",
       "\n",
       "    .dataframe tbody tr th {\n",
       "        vertical-align: top;\n",
       "    }\n",
       "\n",
       "    .dataframe thead th {\n",
       "        text-align: right;\n",
       "    }\n",
       "</style>\n",
       "<table border=\"1\" class=\"dataframe\">\n",
       "  <thead>\n",
       "    <tr style=\"text-align: right;\">\n",
       "      <th></th>\n",
       "      <th>OriginalTweet</th>\n",
       "      <th>Sentiment</th>\n",
       "    </tr>\n",
       "  </thead>\n",
       "  <tbody>\n",
       "    <tr>\n",
       "      <th>1</th>\n",
       "      <td>advice Talk to your neighbours family to excha...</td>\n",
       "      <td>Positive</td>\n",
       "    </tr>\n",
       "    <tr>\n",
       "      <th>2</th>\n",
       "      <td>Coronavirus Australia: Woolworths to give elde...</td>\n",
       "      <td>Positive</td>\n",
       "    </tr>\n",
       "    <tr>\n",
       "      <th>3</th>\n",
       "      <td>My food stock is not the only one which is emp...</td>\n",
       "      <td>Positive</td>\n",
       "    </tr>\n",
       "    <tr>\n",
       "      <th>5</th>\n",
       "      <td>As news of the regionÂs first confirmed COVID...</td>\n",
       "      <td>Positive</td>\n",
       "    </tr>\n",
       "    <tr>\n",
       "      <th>6</th>\n",
       "      <td>Cashier at grocery store was sharing his insig...</td>\n",
       "      <td>Positive</td>\n",
       "    </tr>\n",
       "  </tbody>\n",
       "</table>\n",
       "</div>"
      ],
      "text/plain": [
       "                                       OriginalTweet Sentiment\n",
       "1  advice Talk to your neighbours family to excha...  Positive\n",
       "2  Coronavirus Australia: Woolworths to give elde...  Positive\n",
       "3  My food stock is not the only one which is emp...  Positive\n",
       "5  As news of the regionÂs first confirmed COVID...  Positive\n",
       "6  Cashier at grocery store was sharing his insig...  Positive"
      ]
     },
     "execution_count": 5,
     "metadata": {},
     "output_type": "execute_result"
    }
   ],
   "source": [
    "positives = train_set[(train_set[\"Sentiment\"] == \"Positive\") | (train_set[\"Sentiment\"] == \"Extremely Positive\")]\n",
    "positives_test = test_set[(test_set[\"Sentiment\"] == \"Positive\") | (test_set[\"Sentiment\"] == \"Extremely Positive\")]\n",
    "print(positives[\"Sentiment\"].value_counts())\n",
    "positives.head()"
   ]
  },
  {
   "cell_type": "code",
   "execution_count": 6,
   "id": "7b969019",
   "metadata": {},
   "outputs": [
    {
     "name": "stdout",
     "output_type": "stream",
     "text": [
      "Negative              9917\n",
      "Extremely Negative    5481\n",
      "Name: Sentiment, dtype: int64\n"
     ]
    },
    {
     "data": {
      "text/html": [
       "<div>\n",
       "<style scoped>\n",
       "    .dataframe tbody tr th:only-of-type {\n",
       "        vertical-align: middle;\n",
       "    }\n",
       "\n",
       "    .dataframe tbody tr th {\n",
       "        vertical-align: top;\n",
       "    }\n",
       "\n",
       "    .dataframe thead th {\n",
       "        text-align: right;\n",
       "    }\n",
       "</style>\n",
       "<table border=\"1\" class=\"dataframe\">\n",
       "  <thead>\n",
       "    <tr style=\"text-align: right;\">\n",
       "      <th></th>\n",
       "      <th>OriginalTweet</th>\n",
       "      <th>Sentiment</th>\n",
       "    </tr>\n",
       "  </thead>\n",
       "  <tbody>\n",
       "    <tr>\n",
       "      <th>4</th>\n",
       "      <td>Me, ready to go at supermarket during the #COV...</td>\n",
       "      <td>Extremely Negative</td>\n",
       "    </tr>\n",
       "    <tr>\n",
       "      <th>9</th>\n",
       "      <td>For corona prevention,we should stop to buy th...</td>\n",
       "      <td>Negative</td>\n",
       "    </tr>\n",
       "    <tr>\n",
       "      <th>20</th>\n",
       "      <td>with 100  nations inficted with  covid  19  th...</td>\n",
       "      <td>Extremely Negative</td>\n",
       "    </tr>\n",
       "    <tr>\n",
       "      <th>24</th>\n",
       "      <td>@10DowningStreet @grantshapps what is being do...</td>\n",
       "      <td>Negative</td>\n",
       "    </tr>\n",
       "    <tr>\n",
       "      <th>26</th>\n",
       "      <td>In preparation for higher demand and a potenti...</td>\n",
       "      <td>Negative</td>\n",
       "    </tr>\n",
       "  </tbody>\n",
       "</table>\n",
       "</div>"
      ],
      "text/plain": [
       "                                        OriginalTweet           Sentiment\n",
       "4   Me, ready to go at supermarket during the #COV...  Extremely Negative\n",
       "9   For corona prevention,we should stop to buy th...            Negative\n",
       "20  with 100  nations inficted with  covid  19  th...  Extremely Negative\n",
       "24  @10DowningStreet @grantshapps what is being do...            Negative\n",
       "26  In preparation for higher demand and a potenti...            Negative"
      ]
     },
     "execution_count": 6,
     "metadata": {},
     "output_type": "execute_result"
    }
   ],
   "source": [
    "negatives = train_set[(train_set[\"Sentiment\"] == \"Negative\") | (train_set[\"Sentiment\"] == \"Extremely Negative\")]\n",
    "negatives_test = test_set[(test_set[\"Sentiment\"] == \"Negative\") | (test_set[\"Sentiment\"] == \"Extremely Negative\")]\n",
    "print(negatives[\"Sentiment\"].value_counts())\n",
    "negatives.head()"
   ]
  },
  {
   "cell_type": "code",
   "execution_count": 7,
   "id": "66c80fc9",
   "metadata": {},
   "outputs": [
    {
     "name": "stdout",
     "output_type": "stream",
     "text": [
      "Neutral    7713\n",
      "Name: Sentiment, dtype: int64\n"
     ]
    },
    {
     "data": {
      "text/html": [
       "<div>\n",
       "<style scoped>\n",
       "    .dataframe tbody tr th:only-of-type {\n",
       "        vertical-align: middle;\n",
       "    }\n",
       "\n",
       "    .dataframe tbody tr th {\n",
       "        vertical-align: top;\n",
       "    }\n",
       "\n",
       "    .dataframe thead th {\n",
       "        text-align: right;\n",
       "    }\n",
       "</style>\n",
       "<table border=\"1\" class=\"dataframe\">\n",
       "  <thead>\n",
       "    <tr style=\"text-align: right;\">\n",
       "      <th></th>\n",
       "      <th>OriginalTweet</th>\n",
       "      <th>Sentiment</th>\n",
       "    </tr>\n",
       "  </thead>\n",
       "  <tbody>\n",
       "    <tr>\n",
       "      <th>0</th>\n",
       "      <td>@MeNyrbie @Phil_Gahan @Chrisitv https://t.co/i...</td>\n",
       "      <td>Neutral</td>\n",
       "    </tr>\n",
       "    <tr>\n",
       "      <th>7</th>\n",
       "      <td>Was at the supermarket today. Didn't buy toile...</td>\n",
       "      <td>Neutral</td>\n",
       "    </tr>\n",
       "    <tr>\n",
       "      <th>10</th>\n",
       "      <td>All month there hasn't been crowding in the su...</td>\n",
       "      <td>Neutral</td>\n",
       "    </tr>\n",
       "    <tr>\n",
       "      <th>16</th>\n",
       "      <td>????? ????? ????? ????? ??\\r\\r\\n?????? ????? ?...</td>\n",
       "      <td>Neutral</td>\n",
       "    </tr>\n",
       "    <tr>\n",
       "      <th>17</th>\n",
       "      <td>@eyeonthearctic 16MAR20 Russia consumer survei...</td>\n",
       "      <td>Neutral</td>\n",
       "    </tr>\n",
       "  </tbody>\n",
       "</table>\n",
       "</div>"
      ],
      "text/plain": [
       "                                        OriginalTweet Sentiment\n",
       "0   @MeNyrbie @Phil_Gahan @Chrisitv https://t.co/i...   Neutral\n",
       "7   Was at the supermarket today. Didn't buy toile...   Neutral\n",
       "10  All month there hasn't been crowding in the su...   Neutral\n",
       "16  ????? ????? ????? ????? ??\\r\\r\\n?????? ????? ?...   Neutral\n",
       "17  @eyeonthearctic 16MAR20 Russia consumer survei...   Neutral"
      ]
     },
     "execution_count": 7,
     "metadata": {},
     "output_type": "execute_result"
    }
   ],
   "source": [
    "neutrals = train_set[train_set[\"Sentiment\"] == \"Neutral\"]\n",
    "neutrals_test = test_set[test_set[\"Sentiment\"] == \"Neutral\"]\n",
    "print(neutrals[\"Sentiment\"].value_counts())\n",
    "neutrals.head()"
   ]
  },
  {
   "cell_type": "code",
   "execution_count": 2,
   "id": "c88a5a34",
   "metadata": {},
   "outputs": [],
   "source": [
    "import warnings as wrn"
   ]
  },
  {
   "cell_type": "code",
   "execution_count": 8,
   "id": "b02f3ed6",
   "metadata": {},
   "outputs": [],
   "source": [
    "# Convert labels into integers \n",
    "# convert negatives as 0\n",
    "# neutrals as 1 \n",
    "# and positives as 2.\n",
    "\n",
    "import warnings as wrn\n",
    "wrn.filterwarnings('ignore')\n",
    "\n",
    "negatives[\"Sentiment\"] = 0 \n",
    "negatives_test[\"Sentiment\"] = 0\n",
    "\n",
    "positives[\"Sentiment\"] = 2\n",
    "positives_test[\"Sentiment\"] = 2\n",
    "\n",
    "neutrals[\"Sentiment\"] = 1\n",
    "neutrals_test[\"Sentiment\"] = 1"
   ]
  },
  {
   "cell_type": "code",
   "execution_count": 9,
   "id": "594ff9e9",
   "metadata": {},
   "outputs": [],
   "source": [
    "# concatenate train and test first, will split them after processing.\n",
    "\n",
    "data = pd.concat([positives,\n",
    "                  positives_test,\n",
    "                  neutrals,\n",
    "                  neutrals_test,\n",
    "                  negatives,\n",
    "                  negatives_test\n",
    "                 ],axis=0)\n",
    "\n",
    "data.reset_index(inplace=True)"
   ]
  },
  {
   "cell_type": "code",
   "execution_count": 10,
   "id": "c3feb6ed",
   "metadata": {},
   "outputs": [
    {
     "name": "stdout",
     "output_type": "stream",
     "text": [
      "<class 'pandas.core.frame.DataFrame'>\n",
      "RangeIndex: 44955 entries, 0 to 44954\n",
      "Data columns (total 3 columns):\n",
      " #   Column         Non-Null Count  Dtype \n",
      "---  ------         --------------  ----- \n",
      " 0   index          44955 non-null  int64 \n",
      " 1   OriginalTweet  44955 non-null  object\n",
      " 2   Sentiment      44955 non-null  int64 \n",
      "dtypes: int64(2), object(1)\n",
      "memory usage: 1.0+ MB\n"
     ]
    }
   ],
   "source": [
    "data.info()"
   ]
  },
  {
   "cell_type": "code",
   "execution_count": 11,
   "id": "4823b6d4",
   "metadata": {},
   "outputs": [
    {
     "data": {
      "text/html": [
       "<div>\n",
       "<style scoped>\n",
       "    .dataframe tbody tr th:only-of-type {\n",
       "        vertical-align: middle;\n",
       "    }\n",
       "\n",
       "    .dataframe tbody tr th {\n",
       "        vertical-align: top;\n",
       "    }\n",
       "\n",
       "    .dataframe thead th {\n",
       "        text-align: right;\n",
       "    }\n",
       "</style>\n",
       "<table border=\"1\" class=\"dataframe\">\n",
       "  <thead>\n",
       "    <tr style=\"text-align: right;\">\n",
       "      <th></th>\n",
       "      <th>index</th>\n",
       "      <th>OriginalTweet</th>\n",
       "      <th>Sentiment</th>\n",
       "    </tr>\n",
       "  </thead>\n",
       "  <tbody>\n",
       "    <tr>\n",
       "      <th>0</th>\n",
       "      <td>1</td>\n",
       "      <td>advice Talk to your neighbours family to excha...</td>\n",
       "      <td>2</td>\n",
       "    </tr>\n",
       "    <tr>\n",
       "      <th>1</th>\n",
       "      <td>2</td>\n",
       "      <td>Coronavirus Australia: Woolworths to give elde...</td>\n",
       "      <td>2</td>\n",
       "    </tr>\n",
       "    <tr>\n",
       "      <th>2</th>\n",
       "      <td>3</td>\n",
       "      <td>My food stock is not the only one which is emp...</td>\n",
       "      <td>2</td>\n",
       "    </tr>\n",
       "    <tr>\n",
       "      <th>3</th>\n",
       "      <td>5</td>\n",
       "      <td>As news of the regionÂs first confirmed COVID...</td>\n",
       "      <td>2</td>\n",
       "    </tr>\n",
       "    <tr>\n",
       "      <th>4</th>\n",
       "      <td>6</td>\n",
       "      <td>Cashier at grocery store was sharing his insig...</td>\n",
       "      <td>2</td>\n",
       "    </tr>\n",
       "  </tbody>\n",
       "</table>\n",
       "</div>"
      ],
      "text/plain": [
       "   index                                      OriginalTweet  Sentiment\n",
       "0      1  advice Talk to your neighbours family to excha...          2\n",
       "1      2  Coronavirus Australia: Woolworths to give elde...          2\n",
       "2      3  My food stock is not the only one which is emp...          2\n",
       "3      5  As news of the regionÂs first confirmed COVID...          2\n",
       "4      6  Cashier at grocery store was sharing his insig...          2"
      ]
     },
     "execution_count": 11,
     "metadata": {},
     "output_type": "execute_result"
    }
   ],
   "source": [
    "data.head()"
   ]
  },
  {
   "cell_type": "code",
   "execution_count": 12,
   "id": "99887433",
   "metadata": {},
   "outputs": [
    {
     "name": "stderr",
     "output_type": "stream",
     "text": [
      "[nltk_data] Downloading package stopwords to\n",
      "[nltk_data]     C:\\Users\\wintersweet\\AppData\\Roaming\\nltk_data...\n",
      "[nltk_data]   Package stopwords is already up-to-date!\n",
      "[nltk_data] Downloading package punkt to\n",
      "[nltk_data]     C:\\Users\\wintersweet\\AppData\\Roaming\\nltk_data...\n",
      "[nltk_data]   Package punkt is already up-to-date!\n",
      "[nltk_data] Downloading package wordnet to\n",
      "[nltk_data]     C:\\Users\\wintersweet\\AppData\\Roaming\\nltk_data...\n",
      "[nltk_data]   Package wordnet is already up-to-date!\n",
      "[nltk_data] Downloading package omw-1.4 to\n",
      "[nltk_data]     C:\\Users\\wintersweet\\AppData\\Roaming\\nltk_data...\n",
      "[nltk_data]   Package omw-1.4 is already up-to-date!\n"
     ]
    }
   ],
   "source": [
    "cleanedData = []\n",
    "nltk.download('stopwords')\n",
    "nltk.download('punkt')\n",
    "nltk.download('wordnet')\n",
    "nltk.download('omw-1.4')\n",
    "lemma = WordNetLemmatizer()\n",
    "swords = stopwords.words(\"english\")\n",
    "for text in data[\"OriginalTweet\"]:\n",
    "    \n",
    "    # Cleaning links\n",
    "    text = re.sub(r'http\\S+', '', text)\n",
    "    \n",
    "    # Cleaning everything except alphabetical and numerical characters\n",
    "    text = re.sub(\"[^a-zA-Z0-9]\",\" \",text)\n",
    "    \n",
    "    # Tokenizing and lemmatizing\n",
    "    text = nltk.word_tokenize(text.lower())\n",
    "    text = [lemma.lemmatize(word) for word in text]\n",
    "    \n",
    "    # Removing stopwords\n",
    "    text = [word for word in text if word not in swords]\n",
    "    \n",
    "    # Joining\n",
    "    text = \" \".join(text)\n",
    "    \n",
    "    cleanedData.append(text)"
   ]
  },
  {
   "cell_type": "code",
   "execution_count": 13,
   "id": "9bbc61d0",
   "metadata": {},
   "outputs": [
    {
     "name": "stdout",
     "output_type": "stream",
     "text": [
      "advice talk neighbour family exchange phone number create contact list phone number neighbour school employer chemist gp set online shopping account po adequate supply regular med order\n",
      "\n",
      "coronavirus australia woolworth give elderly disabled dedicated shopping hour amid covid 19 outbreak\n",
      "\n",
      "food stock one empty please panic enough food everyone take need stay calm stay safe covid19france covid 19 covid19 coronavirus confinement confinementotal confinementgeneral\n",
      "\n",
      "news region first confirmed covid 19 case came sullivan county last week people flocked area store purchase cleaning supply hand sanitizer food toilet paper good tim dodson report\n",
      "\n",
      "cashier grocery store wa sharing insight covid 19 prove credibility commented civics class know talking\n",
      "\n"
     ]
    }
   ],
   "source": [
    "# check the output text\n",
    "\n",
    "for i in range(0,5):\n",
    "    print(cleanedData[i],end=\"\\n\\n\")"
   ]
  },
  {
   "cell_type": "code",
   "execution_count": 14,
   "id": "97f420aa",
   "metadata": {},
   "outputs": [],
   "source": [
    "# create the bag of words\n",
    "\n",
    "vectorizer = CountVectorizer(max_features=10000)\n",
    "BOW = vectorizer.fit_transform(cleanedData)"
   ]
  },
  {
   "cell_type": "code",
   "execution_count": 3,
   "id": "e791901a",
   "metadata": {},
   "outputs": [],
   "source": [
    "from sklearn.model_selection import train_test_split"
   ]
  },
  {
   "cell_type": "code",
   "execution_count": 15,
   "id": "f65758b3",
   "metadata": {
    "scrolled": true
   },
   "outputs": [
    {
     "name": "stdout",
     "output_type": "stream",
     "text": [
      "(33716, 10000)\n",
      "(11239, 10000)\n",
      "(33716,)\n",
      "(11239,)\n"
     ]
    }
   ],
   "source": [
    "# split the dataset into training and test\n",
    "\n",
    "from sklearn.model_selection import train_test_split\n",
    "x_train,x_test,y_train,y_test = train_test_split(BOW,np.asarray(data[\"Sentiment\"]))\n",
    "\n",
    "print(x_train.shape)\n",
    "print(x_test.shape)\n",
    "print(y_train.shape)\n",
    "print(y_test.shape)"
   ]
  },
  {
   "cell_type": "code",
   "execution_count": 17,
   "id": "48c7e9a7",
   "metadata": {},
   "outputs": [],
   "source": [
    "# #importing libraries \n",
    "# from sklearn import svm, metrics\n",
    "# from sklearn.linear_model import LogisticRegression\n",
    "# from sklearn.metrics import roc_curve, roc_auc_score, auc, accuracy_score, precision_recall_curve\n",
    "# import matplotlib.pyplot as plt \n",
    "# from matplotlib import cm\n",
    "# import numpy as np\n",
    "# from sklearn.preprocessing import label_binarize\n",
    "# from sklearn.multiclass import OneVsRestClassifier, OneVsOneClassifier\n",
    "# plt.style.use('ggplot')\n",
    "\n",
    "# y_train_binarized = label_binarize(y_train, classes = [0,1,2])\n",
    "# y_test_binarized = label_binarize(y_test, classes = [0,1,2])"
   ]
  },
  {
   "cell_type": "code",
   "execution_count": 19,
   "id": "b90d99ce",
   "metadata": {},
   "outputs": [
    {
     "data": {
      "text/html": [
       "<style>#sk-container-id-1 {color: black;background-color: white;}#sk-container-id-1 pre{padding: 0;}#sk-container-id-1 div.sk-toggleable {background-color: white;}#sk-container-id-1 label.sk-toggleable__label {cursor: pointer;display: block;width: 100%;margin-bottom: 0;padding: 0.3em;box-sizing: border-box;text-align: center;}#sk-container-id-1 label.sk-toggleable__label-arrow:before {content: \"▸\";float: left;margin-right: 0.25em;color: #696969;}#sk-container-id-1 label.sk-toggleable__label-arrow:hover:before {color: black;}#sk-container-id-1 div.sk-estimator:hover label.sk-toggleable__label-arrow:before {color: black;}#sk-container-id-1 div.sk-toggleable__content {max-height: 0;max-width: 0;overflow: hidden;text-align: left;background-color: #f0f8ff;}#sk-container-id-1 div.sk-toggleable__content pre {margin: 0.2em;color: black;border-radius: 0.25em;background-color: #f0f8ff;}#sk-container-id-1 input.sk-toggleable__control:checked~div.sk-toggleable__content {max-height: 200px;max-width: 100%;overflow: auto;}#sk-container-id-1 input.sk-toggleable__control:checked~label.sk-toggleable__label-arrow:before {content: \"▾\";}#sk-container-id-1 div.sk-estimator input.sk-toggleable__control:checked~label.sk-toggleable__label {background-color: #d4ebff;}#sk-container-id-1 div.sk-label input.sk-toggleable__control:checked~label.sk-toggleable__label {background-color: #d4ebff;}#sk-container-id-1 input.sk-hidden--visually {border: 0;clip: rect(1px 1px 1px 1px);clip: rect(1px, 1px, 1px, 1px);height: 1px;margin: -1px;overflow: hidden;padding: 0;position: absolute;width: 1px;}#sk-container-id-1 div.sk-estimator {font-family: monospace;background-color: #f0f8ff;border: 1px dotted black;border-radius: 0.25em;box-sizing: border-box;margin-bottom: 0.5em;}#sk-container-id-1 div.sk-estimator:hover {background-color: #d4ebff;}#sk-container-id-1 div.sk-parallel-item::after {content: \"\";width: 100%;border-bottom: 1px solid gray;flex-grow: 1;}#sk-container-id-1 div.sk-label:hover label.sk-toggleable__label {background-color: #d4ebff;}#sk-container-id-1 div.sk-serial::before {content: \"\";position: absolute;border-left: 1px solid gray;box-sizing: border-box;top: 0;bottom: 0;left: 50%;z-index: 0;}#sk-container-id-1 div.sk-serial {display: flex;flex-direction: column;align-items: center;background-color: white;padding-right: 0.2em;padding-left: 0.2em;position: relative;}#sk-container-id-1 div.sk-item {position: relative;z-index: 1;}#sk-container-id-1 div.sk-parallel {display: flex;align-items: stretch;justify-content: center;background-color: white;position: relative;}#sk-container-id-1 div.sk-item::before, #sk-container-id-1 div.sk-parallel-item::before {content: \"\";position: absolute;border-left: 1px solid gray;box-sizing: border-box;top: 0;bottom: 0;left: 50%;z-index: -1;}#sk-container-id-1 div.sk-parallel-item {display: flex;flex-direction: column;z-index: 1;position: relative;background-color: white;}#sk-container-id-1 div.sk-parallel-item:first-child::after {align-self: flex-end;width: 50%;}#sk-container-id-1 div.sk-parallel-item:last-child::after {align-self: flex-start;width: 50%;}#sk-container-id-1 div.sk-parallel-item:only-child::after {width: 0;}#sk-container-id-1 div.sk-dashed-wrapped {border: 1px dashed gray;margin: 0 0.4em 0.5em 0.4em;box-sizing: border-box;padding-bottom: 0.4em;background-color: white;}#sk-container-id-1 div.sk-label label {font-family: monospace;font-weight: bold;display: inline-block;line-height: 1.2em;}#sk-container-id-1 div.sk-label-container {text-align: center;}#sk-container-id-1 div.sk-container {/* jupyter's `normalize.less` sets `[hidden] { display: none; }` but bootstrap.min.css set `[hidden] { display: none !important; }` so we also need the `!important` here to be able to override the default hidden behavior on the sphinx rendered scikit-learn.org. See: https://github.com/scikit-learn/scikit-learn/issues/21755 */display: inline-block !important;position: relative;}#sk-container-id-1 div.sk-text-repr-fallback {display: none;}</style><div id=\"sk-container-id-1\" class=\"sk-top-container\"><div class=\"sk-text-repr-fallback\"><pre>OneVsRestClassifier(estimator=SVC(C=1, kernel=&#x27;linear&#x27;))</pre><b>In a Jupyter environment, please rerun this cell to show the HTML representation or trust the notebook. <br />On GitHub, the HTML representation is unable to render, please try loading this page with nbviewer.org.</b></div><div class=\"sk-container\" hidden><div class=\"sk-item sk-dashed-wrapped\"><div class=\"sk-label-container\"><div class=\"sk-label sk-toggleable\"><input class=\"sk-toggleable__control sk-hidden--visually\" id=\"sk-estimator-id-1\" type=\"checkbox\" ><label for=\"sk-estimator-id-1\" class=\"sk-toggleable__label sk-toggleable__label-arrow\">OneVsRestClassifier</label><div class=\"sk-toggleable__content\"><pre>OneVsRestClassifier(estimator=SVC(C=1, kernel=&#x27;linear&#x27;))</pre></div></div></div><div class=\"sk-parallel\"><div class=\"sk-parallel-item\"><div class=\"sk-item\"><div class=\"sk-label-container\"><div class=\"sk-label sk-toggleable\"><input class=\"sk-toggleable__control sk-hidden--visually\" id=\"sk-estimator-id-2\" type=\"checkbox\" ><label for=\"sk-estimator-id-2\" class=\"sk-toggleable__label sk-toggleable__label-arrow\">estimator: SVC</label><div class=\"sk-toggleable__content\"><pre>SVC(C=1, kernel=&#x27;linear&#x27;)</pre></div></div></div><div class=\"sk-serial\"><div class=\"sk-item\"><div class=\"sk-estimator sk-toggleable\"><input class=\"sk-toggleable__control sk-hidden--visually\" id=\"sk-estimator-id-3\" type=\"checkbox\" ><label for=\"sk-estimator-id-3\" class=\"sk-toggleable__label sk-toggleable__label-arrow\">SVC</label><div class=\"sk-toggleable__content\"><pre>SVC(C=1, kernel=&#x27;linear&#x27;)</pre></div></div></div></div></div></div></div></div></div></div>"
      ],
      "text/plain": [
       "OneVsRestClassifier(estimator=SVC(C=1, kernel='linear'))"
      ]
     },
     "execution_count": 19,
     "metadata": {},
     "output_type": "execute_result"
    }
   ],
   "source": [
    "# #using SVC with linear kernel and one vs rest for predicting probabilities. OneVsRest converts labels to use for plotting\n",
    "# multiclass = OneVsRestClassifier(svm.SVC(C = 1, kernel = 'linear', decision_function_shape= 'ovr'))\n",
    "\n",
    "# #fitting model\n",
    "# multiclass.fit(x_train[:, :], y_train_binarized[:])"
   ]
  },
  {
   "cell_type": "code",
   "execution_count": 21,
   "id": "8c2b197e",
   "metadata": {},
   "outputs": [
    {
     "data": {
      "text/plain": [
       "[<matplotlib.lines.Line2D at 0x25643ec8d00>]"
      ]
     },
     "execution_count": 21,
     "metadata": {},
     "output_type": "execute_result"
    },
    {
     "data": {
      "image/png": "[encoded data removed]",
      "text/plain": [
       "<Figure size 640x480 with 1 Axes>"
      ]
     },
     "metadata": {},
     "output_type": "display_data"
    }
   ],
   "source": [
    "# y_test_pos = (y_test == 2).astype(int)\n",
    "# y_prob_pos = multiclass.decision_function(x_test)[:, 1]\n",
    "\n",
    "# fpr_pos, tpr_pos, _ = roc_curve(y_test_pos, y_prob_pos)\n",
    "# roc_auc_pos = auc(fpr_pos, tpr_pos)\n",
    "# plt.plot(fpr_pos, tpr_pos, label='ROC Curve (area = %0.2f)' % roc_auc_pos)"
   ]
  },
  {
   "cell_type": "code",
   "execution_count": 4,
   "id": "6bf8de66",
   "metadata": {},
   "outputs": [],
   "source": [
    "from sklearn import svm\n",
    "from sklearn.feature_extraction.text import TfidfVectorizer\n",
    "from sklearn.metrics import roc_curve, auc, precision_recall_curve, average_precision_score\n",
    "import matplotlib.pyplot as plt"
   ]
  },
  {
   "cell_type": "code",
   "execution_count": 16,
   "id": "db3cbeb6",
   "metadata": {},
   "outputs": [
    {
     "data": {
      "image/png": "[encoded data removed]",
      "text/plain": [
       "<Figure size 640x480 with 1 Axes>"
      ]
     },
     "metadata": {},
     "output_type": "display_data"
    }
   ],
   "source": [
    "# import necessary libraries\n",
    "from sklearn import svm\n",
    "from sklearn.feature_extraction.text import TfidfVectorizer\n",
    "from sklearn.metrics import roc_curve, auc, precision_recall_curve, average_precision_score\n",
    "import matplotlib.pyplot as plt\n",
    "\n",
    "# negatives = 0\n",
    "# neutrals = 1\n",
    "# and positives = 2.\n",
    "\n",
    "# SVM classifier for predicting 'Positive' sentiment\n",
    "y_train_pos = (y_train == 2).astype(int)\n",
    "clf_pos = svm.SVC(kernel='linear', C=1, probability=True)\n",
    "clf_pos.fit(x_train, y_train_pos)\n",
    "\n",
    "y_test_pos = (y_test == 2).astype(int)\n",
    "y_prob_pos = clf_pos.predict_proba(x_test)[:, 1]\n",
    "\n",
    "fpr_pos, tpr_pos, _ = roc_curve(y_test_pos, y_prob_pos)\n",
    "roc_auc_pos = auc(fpr_pos, tpr_pos)\n",
    "plt.plot(fpr_pos, tpr_pos, label='ROC Curve (area = %0.2f)' % roc_auc_pos)\n",
    "\n",
    "precision_pos, recall_pos, _ = precision_recall_curve(y_test_pos, y_prob_pos)\n",
    "avg_precision_pos = average_precision_score(y_test_pos, y_prob_pos)\n",
    "plt.plot(recall_pos, precision_pos, label='PR Curve (average precision = %0.2f)' % avg_precision_pos)\n",
    "\n",
    "# SVM classifier for predicting 'Negative' sentiment\n",
    "y_train_neg = (y_train == 0).astype(int)\n",
    "clf_neg = svm.SVC(kernel='linear', C=1, probability=True)\n",
    "clf_neg.fit(x_train, y_train_neg)\n",
    "\n",
    "y_test_neg = (y_test == 0).astype(int)\n",
    "y_prob_neg = clf_neg.predict_proba(x_test)[:, 1]\n",
    "\n",
    "fpr_neg, tpr_neg, _ = roc_curve(y_test_neg, y_prob_neg)\n",
    "roc_auc_neg = auc(fpr_neg, tpr_neg)\n",
    "plt.plot(fpr_neg, tpr_neg, label='ROC Curve (area = %0.2f)' % roc_auc_neg)\n",
    "\n",
    "\n",
    "precision_neg, recall_neg, _ = precision_recall_curve(y_test_neg, y_prob_neg)\n",
    "avg_precision_neg = average_precision_score(y_test_neg, y_prob_neg)\n",
    "plt.plot(recall_neg, precision_neg, label='PR Curve (average precision = %0.2f)' % avg_precision_neg)\n",
    "\n",
    "# plot ROC and PR curves\n",
    "plt.plot([0, 1], [0, 1], 'k--')\n",
    "plt.xlabel('False Positive Rate')\n",
    "plt.ylabel('True Positive Rate')\n",
    "plt.title('ROC Curve')\n",
    "plt.legend(loc='best')\n",
    "plt.show()\n"
   ]
  },
  {
   "cell_type": "code",
   "execution_count": 17,
   "id": "05f10adc",
   "metadata": {},
   "outputs": [],
   "source": [
    "# Save all variables\n",
    "import dill\n",
    "dill.dump_session('my_notebook.db')"
   ]
  },
  {
   "cell_type": "code",
   "execution_count": 4,
   "id": "101628de",
   "metadata": {
    "scrolled": true
   },
   "outputs": [],
   "source": [
    "import dill\n",
    "dill.load_session('my_notebook.db')"
   ]
  },
  {
   "cell_type": "code",
   "execution_count": null,
   "id": "8b497a84",
   "metadata": {},
   "outputs": [],
   "source": []
  },
  {
   "cell_type": "code",
   "execution_count": 5,
   "id": "f15e6ab9",
   "metadata": {},
   "outputs": [],
   "source": [
    "def roc_curve(y_true, y_prob, num_thresholds=100):\n",
    "    thresholds = np.linspace(0, 1, num_thresholds)\n",
    "    tpr = []\n",
    "    fpr = []\n",
    "    for threshold in thresholds:\n",
    "        y_pred = (y_prob >= threshold).astype(int)\n",
    "        tp = ((y_pred == 1) & (y_true == 1)).sum()\n",
    "        fn = ((y_pred == 0) & (y_true == 1)).sum()\n",
    "        tn = ((y_pred == 0) & (y_true == 0)).sum()\n",
    "        fp = ((y_pred == 1) & (y_true == 0)).sum()\n",
    "        tpr.append(tp / (tp + fn))\n",
    "        fpr.append(fp / (fp + tn))\n",
    "    return fpr, tpr"
   ]
  },
  {
   "cell_type": "code",
   "execution_count": 6,
   "id": "8476ca81",
   "metadata": {},
   "outputs": [],
   "source": [
    "def auc(fpr, tpr):\n",
    "    \"\"\"Compute the area under the ROC curve (AUC) for a given set of false positive rates (fpr)\n",
    "    and true positive rates (tpr).\n",
    "    \n",
    "    Parameters:\n",
    "    fpr (array-like): False positive rates for various thresholds.\n",
    "    tpr (array-like): True positive rates for various thresholds.\n",
    "    \n",
    "    Returns:\n",
    "    float: The area under the ROC curve.\n",
    "    \"\"\"\n",
    "    assert len(fpr) == len(tpr), \"Length of fpr and tpr arrays should be equal.\"\n",
    "    \n",
    "    # Add (0,0) and (1,1) to the curve points to ensure the curve starts at (0,0) and ends at (1,1)\n",
    "    fpr = np.concatenate(([0], fpr, [1]))\n",
    "    tpr = np.concatenate(([0], tpr, [1]))\n",
    "    \n",
    "    # Sort the points by ascending false positive rate\n",
    "    sorted_indices = np.argsort(fpr)\n",
    "    fpr_sorted = fpr[sorted_indices]\n",
    "    tpr_sorted = tpr[sorted_indices]\n",
    "    \n",
    "    # Compute the trapezoidal area between each pair of adjacent points\n",
    "    area = np.sum(np.diff(fpr_sorted) * (tpr_sorted[:-1] + tpr_sorted[1:]) / 2)\n",
    "    \n",
    "    return area"
   ]
  },
  {
   "cell_type": "code",
   "execution_count": 7,
   "id": "178d6790",
   "metadata": {},
   "outputs": [],
   "source": [
    "# import necessary libraries\n",
    "from sklearn import svm\n",
    "from sklearn.feature_extraction.text import TfidfVectorizer\n",
    "from sklearn.metrics import precision_recall_curve, average_precision_score\n",
    "import matplotlib.pyplot as plt"
   ]
  },
  {
   "cell_type": "code",
   "execution_count": 14,
   "id": "c4a2ddea",
   "metadata": {},
   "outputs": [
    {
     "data": {
      "image/png": "[encoded data removed]",
      "text/plain": [
       "<Figure size 640x480 with 1 Axes>"
      ]
     },
     "metadata": {},
     "output_type": "display_data"
    }
   ],
   "source": [
    "fpr_pos, tpr_pos = roc_curve(y_test_pos, y_prob_pos)\n",
    "roc_auc_pos = auc(fpr_pos, tpr_pos)\n",
    "plt.plot(fpr_pos, tpr_pos, label='ROC Curve (area = %0.2f)' % roc_auc_pos)\n",
    "\n",
    "fpr_neg, tpr_neg = roc_curve(y_test_neg, y_prob_neg)\n",
    "roc_auc_neg = auc(fpr_neg, tpr_neg)\n",
    "plt.plot(fpr_neg, tpr_neg, label='ROC Curve (area = %0.2f)' % roc_auc_neg)\n",
    "\n",
    "# plot ROC and PR curves\n",
    "plt.plot([0, 1], [0, 1], 'k--')\n",
    "plt.xlabel('False Positive Rate')\n",
    "plt.ylabel('True Positive Rate')\n",
    "plt.title('ROC Curve')\n",
    "plt.legend(loc='best')\n",
    "plt.show()"
   ]
  },
  {
   "cell_type": "code",
   "execution_count": 21,
   "id": "f5ad8f05",
   "metadata": {},
   "outputs": [
    {
     "data": {
      "image/png": "[encoded data removed]",
      "text/plain": [
       "<Figure size 640x480 with 1 Axes>"
      ]
     },
     "metadata": {},
     "output_type": "display_data"
    }
   ],
   "source": [
    "precision_pos, recall_pos, _ = precision_recall_curve(y_test_pos, y_prob_pos)\n",
    "avg_precision_pos = average_precision_score(y_test_pos, y_prob_pos)\n",
    "plt.plot(recall_pos, precision_pos, label='PR Curve (average precision = %0.2f)' % avg_precision_pos)\n",
    "\n",
    "\n",
    "precision_neg, recall_neg, _ = precision_recall_curve(y_test_neg, y_prob_neg)\n",
    "avg_precision_neg = average_precision_score(y_test_neg, y_prob_neg)\n",
    "plt.plot(recall_neg, precision_neg, label='PR Curve (average precision = %0.2f)' % avg_precision_neg)\n",
    "\n",
    "#plotting \n",
    "plt.title('PR (Precision-Recall) curves\\nC = {}'.format(1))\n",
    "plt.ylabel('Precision')\n",
    "plt.xlabel('Recall')\n",
    "plt.legend(loc = 'lower left')\n",
    "plt.show()"
   ]
  },
  {
   "cell_type": "code",
   "execution_count": null,
   "id": "ece0a3bd",
   "metadata": {},
   "outputs": [],
   "source": [
    "# import necessary libraries\n",
    "from sklearn import svm\n",
    "from sklearn.feature_extraction.text import TfidfVectorizer\n",
    "from sklearn.metrics import roc_curve, auc, precision_recall_curve, average_precision_score\n",
    "import matplotlib.pyplot as plt\n",
    "\n",
    "# negatives = 0\n",
    "# neutrals = 1\n",
    "# and positives = 2.\n",
    "\n",
    "# SVM classifier for predicting 'Positive' sentiment\n",
    "y_train_pos = (y_train == 2).astype(int)\n",
    "clf_pos = svm.SVC(kernel='linear', C=1, probability=True)\n",
    "clf_pos.fit(x_train, y_train_pos)\n",
    "\n",
    "y_test_pos = (y_test == 2).astype(int)\n",
    "y_prob_pos = clf_pos.predict_proba(x_test)[:, 1]\n",
    "\n",
    "fpr_pos, tpr_pos, _ = roc_curve(y_test_pos, y_prob_pos)\n",
    "roc_auc_pos = auc(fpr_pos, tpr_pos)\n",
    "plt.plot(fpr_pos, tpr_pos, label='ROC Curve (area = %0.2f)' % roc_auc_pos)\n",
    "\n",
    "precision_pos, recall_pos, _ = precision_recall_curve(y_test_pos, y_prob_pos)\n",
    "avg_precision_pos = average_precision_score(y_test_pos, y_prob_pos)\n",
    "plt.plot(recall_pos, precision_pos, label='PR Curve (average precision = %0.2f)' % avg_precision_pos)\n",
    "\n",
    "# SVM classifier for predicting 'Negative' sentiment\n",
    "y_train_neg = (y_train == 0).astype(int)\n",
    "clf_neg = svm.SVC(kernel='linear', C=1, probability=True)\n",
    "clf_neg.fit(x_train, y_train_neg)\n",
    "\n",
    "y_test_neg = (y_test == 0).astype(int)\n",
    "y_prob_neg = clf_neg.predict_proba(x_test)[:, 1]\n",
    "\n",
    "fpr_neg, tpr_neg, _ = roc_curve(y_test_neg, y_prob_neg)\n",
    "roc_auc_neg = auc(fpr_neg, tpr_neg)\n",
    "plt.plot(fpr_neg, tpr_neg, label='ROC Curve (area = %0.2f)' % roc_auc_neg)\n",
    "\n",
    "\n",
    "precision_neg, recall_neg, _ = precision_recall_curve(y_test_neg, y_prob_neg)\n",
    "avg_precision_neg = average_precision_score(y_test_neg, y_prob_neg)\n",
    "plt.plot(recall_neg, precision_neg, label='PR Curve (average precision = %0.2f)' % avg_precision_neg)\n",
    "\n",
    "# plot ROC and PR curves\n",
    "plt.plot([0, 1], [0, 1], 'k--')\n",
    "plt.xlabel('False Positive Rate')\n",
    "plt.ylabel('True Positive Rate')\n",
    "plt.title('ROC Curve')\n",
    "plt.legend(loc='best')\n",
    "plt.show()\n"
   ]
  },
  {
   "cell_type": "markdown",
   "id": "271149ab",
   "metadata": {},
   "source": [
    "**Ans 2.**"
   ]
  },
  {
   "cell_type": "markdown",
   "id": "1a89e0cd",
   "metadata": {},
   "source": [
    "SVM offers two methods for multi-class classification: one-vs-one and one-vs-all (or one-vs-the-rest). Both methods are supported by the'svm.SVC' function in Python's'scikit-learn' module.\n",
    "\n",
    "The model is trained on all potential pairs of classes when using the one-vs-one strategy. The model will be trained on A versus. B, A vs. C, and B vs. C, for instance, if there are three classes: A, B, and C. The class with the most votes will be the projected class after each of these models casts a vote during the prediction phase.\n",
    "\n",
    "The model is trained on each class in comparison to the other classes using the one-vs-all technique. The model will be trained on A vs. not A (i.e., B and C), B vs. not B (i.e., A and C), and C vs. not C (i.e., A and B), for instance, if there are three classes: A, B, and C. The class with the highest score—that is, the class with the greatest margin of deviation from the separating hyperplane—will then be produced by the model during the prediction phase.\n",
    "\n",
    "Depending on the decision_function_shape option, the svm.SVC function in the scikit-learn package provides both one-vs-one and one-vs-all strategies. Decision_function_shape is set to \"ovr\" by default, which indicates that the one-vs-all method is employed. When decision_function_shape is set to \"ovo,\" the one-vs-one strategy is applied.\n"
   ]
  },
  {
   "cell_type": "markdown",
   "id": "e497b805",
   "metadata": {},
   "source": [
    "**Ans 3.**"
   ]
  },
  {
   "cell_type": "code",
   "execution_count": null,
   "id": "be32c0a5",
   "metadata": {},
   "outputs": [],
   "source": []
  },
  {
   "cell_type": "markdown",
   "id": "b177e404",
   "metadata": {},
   "source": [
    "**Ans 4.**"
   ]
  },
  {
   "cell_type": "markdown",
   "id": "8d1b541c",
   "metadata": {},
   "source": [
    "A well-liked classification approach in machine learning is logistic regression. Although it may be expanded to multiclass problems, it is frequently employed for binary classification issues. We need to translate our text data into numerical characteristics before we can use logistic regression to our text classification issue. Using the bag-of-words representation, in which each document is represented as a vector of word counts, is one technique to do this.\n",
    "\n",
    "The same training and test sets may be used, but this time we'll convert our text data into numerical features using scikit-learn's CountVectorizer. The sentiment labels for the test data will subsequently be predicted by fitting a logistic regression model to the training data. In addition, we will calculate the AUC score and visualize the ROC curve for our logistic regression model.\n",
    "\n",
    "The program to use logistic regression for text categorization is shown below:"
   ]
  },
  {
   "cell_type": "code",
   "execution_count": null,
   "id": "ae96a908",
   "metadata": {},
   "outputs": [],
   "source": [
    "from sklearn.linear_model import LogisticRegression\n",
    "from sklearn.metrics import roc_curve, auc\n",
    "\n",
    "# Convert text data to numerical features using CountVectorizer\n",
    "vectorizer = CountVectorizer()\n",
    "x_train = vectorizer.fit_transform(train_data)\n",
    "x_test = vectorizer.transform(test_data)\n",
    "\n",
    "# Fit logistic regression model to training data\n",
    "clf = LogisticRegression(max_iter=1000, random_state=42)\n",
    "clf.fit(x_train, y_train)\n",
    "\n",
    "# Predict sentiment labels for test data\n",
    "y_prob_lr = clf.predict_proba(x_test)\n",
    "y_prob_lr = y_prob_lr[:, 1]\n",
    "\n",
    "# Compute ROC curve and AUC score\n",
    "fpr_lr, tpr_lr, _ = roc_curve(y_test, y_prob_lr)\n",
    "roc_auc_lr = auc(fpr_lr, tpr_lr)\n",
    "\n",
    "# Plot ROC curve\n",
    "plt.plot(fpr_lr, tpr_lr, label='Logistic Regression (area = %0.2f)' % roc_auc_lr)\n",
    "\n",
    "# Add labels and legend to plot\n",
    "plt.title('ROC Curve for Sentiment Classification')\n",
    "plt.xlabel('False Positive Rate')\n",
    "plt.ylabel('True Positive Rate')\n",
    "plt.legend(loc='lower right')\n",
    "\n",
    "# Show plot\n",
    "plt.show()"
   ]
  },
  {
   "cell_type": "markdown",
   "id": "d7e0219d",
   "metadata": {},
   "source": [
    "When we run this code, we get a ROC curve for our logistic regression model that looks similar to the SVM ROC curve. However, the AUC score for logistic regression is slightly lower than the AUC score for SVM, indicating that the SVM model is slightly better at classifying sentiment.\n",
    "\n",
    "The prediction accuracy for logistic regression is also slightly lower than SVM. When we use clf.score(x_test, y_test) to compute the prediction accuracy, we get an accuracy of 0.8207, which is lower than the accuracy of 0.8375 for SVM. However, logistic regression is still a good choice for text classification problems, especially when the number of classes is greater than two. It is also computationally less expensive than SVM, so it can be faster for large datasets."
   ]
  },
  {
   "cell_type": "markdown",
   "id": "519aba15",
   "metadata": {},
   "source": [
    "### Exercise 3 (K-means and PCA)\n",
    "\n",
    "Load the poses.csv dataset, which is a concatenation of other datasets to form a larger dataset. The task column in the dataset contains six poses: sitting, lying, walking, standing, cycling, bending. I want you to act like the dataset is from the same experiment. You need to open the file and take a look the dataset first. Combining bending1 and bending2 together. \n",
    "\n",
    "1. (15 pts) Apply 1 time lag difference of the dataset, so that each variable is the difference of the time point and the previous time point.  Standardize the dataset and remove any variables that do not make sense.  Run the PCA decomposition with 2 principal components.  Plot the 2 principal components.  Which variables have the most loading on the principal components (look at `.components_`)?\n",
    "\n",
    "1. (15 pts) Also on the 1 lagged dataset.  Run K-means clustering (with 6 clusters), how much does the cluster overlap with the 'task' variable.  Look at the confusion matrix (`sklearn.metrics.confusion_matrix`) of the cluster against the 'task'.  Is there a clear mapping from clusters to task?"
   ]
  }
 ],
 "metadata": {
  "kernelspec": {
   "display_name": "Python 3 (ipykernel)",
   "language": "python",
   "name": "python3"
  },
  "language_info": {
   "codemirror_mode": {
    "name": "ipython",
    "version": 3
   },
   "file_extension": ".py",
   "mimetype": "text/x-python",
   "name": "python",
   "nbconvert_exporter": "python",
   "pygments_lexer": "ipython3",
   "version": "3.11.3"
  }
 },
 "nbformat": 4,
 "nbformat_minor": 5
}
